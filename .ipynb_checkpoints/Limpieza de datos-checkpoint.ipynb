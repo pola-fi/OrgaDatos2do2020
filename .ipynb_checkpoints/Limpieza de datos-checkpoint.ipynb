{
 "cells": [
  {
   "cell_type": "code",
   "execution_count": 110,
   "metadata": {},
   "outputs": [
    {
     "data": {
      "text/plain": [
       "(16947, 52)"
      ]
     },
     "execution_count": 110,
     "metadata": {},
     "output_type": "execute_result"
    }
   ],
   "source": [
    "import pandas as pd\n",
    "import numpy as np\n",
    "\n",
    "df = pd.read_csv(\"./data/train.csv\")\n",
    "df.shape"
   ]
  },
  {
   "cell_type": "code",
   "execution_count": 111,
   "metadata": {},
   "outputs": [
    {
     "data": {
      "text/plain": [
       "Index(['Submitted_for_Approval', 'Last_Activity', 'ASP_(converted)_Currency',\n",
       "       'Actual_Delivery_Date', 'Prod_Category_A'],\n",
       "      dtype='object')"
      ]
     },
     "execution_count": 111,
     "metadata": {},
     "output_type": "execute_result"
    }
   ],
   "source": [
    "# columnas con valor unico -> no aportan informacion\n",
    "nunique = df.apply(pd.Series.nunique)\n",
    "cols_to_drop = nunique[nunique == 1].index\n",
    "cols_to_drop"
   ]
  },
  {
   "cell_type": "code",
   "execution_count": 112,
   "metadata": {},
   "outputs": [
    {
     "data": {
      "text/plain": [
       "(16947, 47)"
      ]
     },
     "execution_count": 112,
     "metadata": {},
     "output_type": "execute_result"
    }
   ],
   "source": [
    "# Elimino columnas que no aporta informacion\n",
    "df.drop(cols_to_drop, axis=1, inplace = True)\n",
    "df.shape"
   ]
  },
  {
   "cell_type": "code",
   "execution_count": 113,
   "metadata": {},
   "outputs": [
    {
     "data": {
      "text/plain": [
       "(64, 47)"
      ]
     },
     "execution_count": 113,
     "metadata": {},
     "output_type": "execute_result"
    }
   ],
   "source": [
    "# Las propuestas diferentes a Closed Won o Closed Lost representan una infima cantidad (64/16mil)\n",
    "# Son propuestas en curso que estan todavia en diferententes fases y no aportan informacion para predecir\n",
    "# si la venta se produce o no\n",
    "# son la moyoria del 2019 o 2020, y una que quedo colgada del 2017\n",
    "df[(df['Stage']!= 'Closed Lost') & (df['Stage']!= 'Closed Won') ].shape"
   ]
  },
  {
   "cell_type": "code",
   "execution_count": 114,
   "metadata": {},
   "outputs": [],
   "source": [
    "# elimino esas 64 columnas\n",
    "df = df[(df['Stage'] == 'Closed Lost') | (df['Stage'] == 'Closed Won') ]"
   ]
  },
  {
   "cell_type": "code",
   "execution_count": 115,
   "metadata": {},
   "outputs": [
    {
     "data": {
      "text/plain": [
       "Index(['Pricing, Delivery_Terms_Quote_Appr',\n",
       "       'Pricing, Delivery_Terms_Approved', 'Bureaucratic_Code_0_Approval',\n",
       "       'Bureaucratic_Code_0_Approved', 'Quote_Type'],\n",
       "      dtype='object')"
      ]
     },
     "execution_count": 115,
     "metadata": {},
     "output_type": "execute_result"
    }
   ],
   "source": [
    "# Busco columnas que solo tengan 2 valores distintos\n",
    "cols_with_2_values = nunique[nunique == 2].index\n",
    "cols_with_2_values"
   ]
  },
  {
   "cell_type": "code",
   "execution_count": 116,
   "metadata": {},
   "outputs": [
    {
     "data": {
      "text/plain": [
       "Non Binding    16713\n",
       "Binding          170\n",
       "Name: Quote_Type, dtype: int64"
      ]
     },
     "execution_count": 116,
     "metadata": {},
     "output_type": "execute_result"
    }
   ],
   "source": [
    "# Solo la columna 'Quote_Type' tiene casi todos las entradas (casi 99%) con el mismo valor\n",
    "df['Quote_Type'].value_counts()"
   ]
  },
  {
   "cell_type": "code",
   "execution_count": 117,
   "metadata": {},
   "outputs": [
    {
     "data": {
      "text/plain": [
       "Closed Won     86\n",
       "Closed Lost    84\n",
       "Name: Stage, dtype: int64"
      ]
     },
     "execution_count": 117,
     "metadata": {},
     "output_type": "execute_result"
    }
   ],
   "source": [
    "# Y podemos ver que cuando toma el valor poco usual, \n",
    "# no determina si la oportunidad se cierra en positivo o en negativo\n",
    "df[df['Quote_Type'] == \"Binding\"]['Stage'].value_counts()"
   ]
  },
  {
   "cell_type": "code",
   "execution_count": 118,
   "metadata": {},
   "outputs": [
    {
     "data": {
      "text/plain": [
       "(16883, 46)"
      ]
     },
     "execution_count": 118,
     "metadata": {},
     "output_type": "execute_result"
    }
   ],
   "source": [
    "# Por lo tanto podemos descartar esa columna\n",
    "df.drop('Quote_Type', axis=1, inplace = True)\n",
    "df.shape\n"
   ]
  },
  {
   "cell_type": "code",
   "execution_count": 119,
   "metadata": {},
   "outputs": [
    {
     "data": {
      "text/plain": [
       "(16883, 46)"
      ]
     },
     "execution_count": 119,
     "metadata": {},
     "output_type": "execute_result"
    }
   ],
   "source": [
    "df.to_csv(r'./data/train_clean.csv', index = False)\n",
    "df_clean = pd.read_csv(\"./data/train_clean.csv\")\n",
    "df_clean.shape"
   ]
  },
  {
   "cell_type": "code",
   "execution_count": null,
   "metadata": {},
   "outputs": [],
   "source": []
  }
 ],
 "metadata": {
  "kernelspec": {
   "display_name": "Python 3",
   "language": "python",
   "name": "python3"
  },
  "language_info": {
   "codemirror_mode": {
    "name": "ipython",
    "version": 3
   },
   "file_extension": ".py",
   "mimetype": "text/x-python",
   "name": "python",
   "nbconvert_exporter": "python",
   "pygments_lexer": "ipython3",
   "version": "3.8.3"
  }
 },
 "nbformat": 4,
 "nbformat_minor": 4
}
