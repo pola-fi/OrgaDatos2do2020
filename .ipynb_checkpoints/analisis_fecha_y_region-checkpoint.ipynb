{
 "cells": [
  {
   "cell_type": "code",
   "execution_count": 178,
   "metadata": {},
   "outputs": [
    {
     "data": {
      "text/html": [
       "<div>\n",
       "<style scoped>\n",
       "    .dataframe tbody tr th:only-of-type {\n",
       "        vertical-align: middle;\n",
       "    }\n",
       "\n",
       "    .dataframe tbody tr th {\n",
       "        vertical-align: top;\n",
       "    }\n",
       "\n",
       "    .dataframe thead th {\n",
       "        text-align: right;\n",
       "    }\n",
       "</style>\n",
       "<table border=\"1\" class=\"dataframe\">\n",
       "  <thead>\n",
       "    <tr style=\"text-align: right;\">\n",
       "      <th></th>\n",
       "      <th>ID</th>\n",
       "      <th>Region</th>\n",
       "      <th>Territory</th>\n",
       "      <th>Pricing, Delivery_Terms_Quote_Appr</th>\n",
       "      <th>Pricing, Delivery_Terms_Approved</th>\n",
       "      <th>Bureaucratic_Code_0_Approval</th>\n",
       "      <th>Bureaucratic_Code_0_Approved</th>\n",
       "      <th>Bureaucratic_Code</th>\n",
       "      <th>Account_Created_Date</th>\n",
       "      <th>Source</th>\n",
       "      <th>...</th>\n",
       "      <th>Planned_Delivery_End_Date</th>\n",
       "      <th>Month</th>\n",
       "      <th>Delivery_Quarter</th>\n",
       "      <th>Delivery_Year</th>\n",
       "      <th>TRF</th>\n",
       "      <th>Total_Amount_Currency</th>\n",
       "      <th>Total_Amount</th>\n",
       "      <th>Total_Taxable_Amount_Currency</th>\n",
       "      <th>Total_Taxable_Amount</th>\n",
       "      <th>Stage</th>\n",
       "    </tr>\n",
       "  </thead>\n",
       "  <tbody>\n",
       "    <tr>\n",
       "      <th>16881</th>\n",
       "      <td>28561</td>\n",
       "      <td>Americas</td>\n",
       "      <td>NE America</td>\n",
       "      <td>1</td>\n",
       "      <td>1</td>\n",
       "      <td>1</td>\n",
       "      <td>1</td>\n",
       "      <td>Bureaucratic_Code_4</td>\n",
       "      <td>10/20/2015</td>\n",
       "      <td>None</td>\n",
       "      <td>...</td>\n",
       "      <td>4/29/2016</td>\n",
       "      <td>2016 - 4</td>\n",
       "      <td>Q2</td>\n",
       "      <td>2016</td>\n",
       "      <td>4</td>\n",
       "      <td>USD</td>\n",
       "      <td>2346796.88</td>\n",
       "      <td>USD</td>\n",
       "      <td>0.0</td>\n",
       "      <td>Closed Lost</td>\n",
       "    </tr>\n",
       "    <tr>\n",
       "      <th>16882</th>\n",
       "      <td>28318</td>\n",
       "      <td>Americas</td>\n",
       "      <td>NE America</td>\n",
       "      <td>1</td>\n",
       "      <td>1</td>\n",
       "      <td>1</td>\n",
       "      <td>1</td>\n",
       "      <td>Bureaucratic_Code_4</td>\n",
       "      <td>9/3/2015</td>\n",
       "      <td>None</td>\n",
       "      <td>...</td>\n",
       "      <td>8/31/2016</td>\n",
       "      <td>2016 - 7</td>\n",
       "      <td>Q3</td>\n",
       "      <td>2016</td>\n",
       "      <td>40</td>\n",
       "      <td>USD</td>\n",
       "      <td>25603200.00</td>\n",
       "      <td>USD</td>\n",
       "      <td>0.0</td>\n",
       "      <td>Closed Lost</td>\n",
       "    </tr>\n",
       "  </tbody>\n",
       "</table>\n",
       "<p>2 rows × 47 columns</p>\n",
       "</div>"
      ],
      "text/plain": [
       "          ID    Region   Territory  Pricing, Delivery_Terms_Quote_Appr  \\\n",
       "16881  28561  Americas  NE America                                   1   \n",
       "16882  28318  Americas  NE America                                   1   \n",
       "\n",
       "       Pricing, Delivery_Terms_Approved  Bureaucratic_Code_0_Approval  \\\n",
       "16881                                 1                             1   \n",
       "16882                                 1                             1   \n",
       "\n",
       "       Bureaucratic_Code_0_Approved    Bureaucratic_Code Account_Created_Date  \\\n",
       "16881                             1  Bureaucratic_Code_4           10/20/2015   \n",
       "16882                             1  Bureaucratic_Code_4             9/3/2015   \n",
       "\n",
       "      Source   ... Planned_Delivery_End_Date     Month Delivery_Quarter  \\\n",
       "16881    None  ...                 4/29/2016  2016 - 4               Q2   \n",
       "16882    None  ...                 8/31/2016  2016 - 7               Q3   \n",
       "\n",
       "       Delivery_Year TRF Total_Amount_Currency Total_Amount  \\\n",
       "16881           2016   4                   USD   2346796.88   \n",
       "16882           2016  40                   USD  25603200.00   \n",
       "\n",
       "      Total_Taxable_Amount_Currency Total_Taxable_Amount        Stage  \n",
       "16881                           USD                  0.0  Closed Lost  \n",
       "16882                           USD                  0.0  Closed Lost  \n",
       "\n",
       "[2 rows x 47 columns]"
      ]
     },
     "execution_count": 178,
     "metadata": {},
     "output_type": "execute_result"
    }
   ],
   "source": [
    "import pandas as pd\n",
    "import numpy as np\n",
    "import matplotlib.pyplot as plt\n",
    "import seaborn as sns\n",
    "\n",
    "%matplotlib inline\n",
    "\n",
    "plt.style.use('default') # haciendo los graficos un poco mas bonitos en matplotlib\n",
    "plt.rcParams['figure.figsize'] = (20, 10)\n",
    "\n",
    "df = pd.read_csv(\"./data/train_clean.csv\")\n",
    "\n",
    "df.tail(2)"
   ]
  },
  {
   "cell_type": "code",
   "execution_count": 180,
   "metadata": {},
   "outputs": [
    {
     "data": {
      "text/plain": [
       "Japan          4869\n",
       "EMEA           4660\n",
       "Americas       3933\n",
       "APAC           3251\n",
       "Middle East     170\n",
       "Name: Region, dtype: int64"
      ]
     },
     "execution_count": 180,
     "metadata": {},
     "output_type": "execute_result"
    }
   ],
   "source": [
    "df['Region'].value_counts()"
   ]
  },
  {
   "cell_type": "code",
   "execution_count": 165,
   "metadata": {},
   "outputs": [
    {
     "data": {
      "text/plain": [
       "Closed Won     9533\n",
       "Closed Lost    7350\n",
       "Name: Stage, dtype: int64"
      ]
     },
     "execution_count": 165,
     "metadata": {},
     "output_type": "execute_result"
    }
   ],
   "source": [
    "df['Stage'].value_counts()"
   ]
  },
  {
   "cell_type": "code",
   "execution_count": 166,
   "metadata": {},
   "outputs": [
    {
     "data": {
      "text/plain": [
       "(9533, 49)"
      ]
     },
     "execution_count": 166,
     "metadata": {},
     "output_type": "execute_result"
    }
   ],
   "source": [
    "df_closed_won = df[df['Stage'] == 'Closed Won']\n",
    "df_closed_won.shape"
   ]
  },
  {
   "cell_type": "code",
   "execution_count": 167,
   "metadata": {},
   "outputs": [
    {
     "data": {
      "text/plain": [
       "Region\n",
       "APAC           1896\n",
       "Americas       1793\n",
       "EMEA           2471\n",
       "Japan          3323\n",
       "Middle East      50\n",
       "dtype: int64"
      ]
     },
     "execution_count": 167,
     "metadata": {},
     "output_type": "execute_result"
    }
   ],
   "source": [
    "df_closed_won.groupby(['Region']).size()"
   ]
  },
  {
   "cell_type": "code",
   "execution_count": 168,
   "metadata": {},
   "outputs": [
    {
     "data": {
      "text/plain": [
       "(7350, 49)"
      ]
     },
     "execution_count": 168,
     "metadata": {},
     "output_type": "execute_result"
    }
   ],
   "source": [
    "df_closed_lost = df[df['Stage'] == 'Closed Lost']\n",
    "df_closed_lost.shape"
   ]
  },
  {
   "cell_type": "code",
   "execution_count": 169,
   "metadata": {},
   "outputs": [
    {
     "data": {
      "text/plain": [
       "Region\n",
       "APAC           1355\n",
       "Americas       2140\n",
       "EMEA           2189\n",
       "Japan          1546\n",
       "Middle East     120\n",
       "dtype: int64"
      ]
     },
     "execution_count": 169,
     "metadata": {},
     "output_type": "execute_result"
    }
   ],
   "source": [
    "df_closed_lost.groupby(['Region']).size()"
   ]
  },
  {
   "cell_type": "code",
   "execution_count": 170,
   "metadata": {},
   "outputs": [
    {
     "data": {
      "text/html": [
       "<div>\n",
       "<style scoped>\n",
       "    .dataframe tbody tr th:only-of-type {\n",
       "        vertical-align: middle;\n",
       "    }\n",
       "\n",
       "    .dataframe tbody tr th {\n",
       "        vertical-align: top;\n",
       "    }\n",
       "\n",
       "    .dataframe thead th {\n",
       "        text-align: right;\n",
       "    }\n",
       "</style>\n",
       "<table border=\"1\" class=\"dataframe\">\n",
       "  <thead>\n",
       "    <tr style=\"text-align: right;\">\n",
       "      <th></th>\n",
       "      <th>casos perdidos</th>\n",
       "      <th>casos ganados</th>\n",
       "    </tr>\n",
       "    <tr>\n",
       "      <th>Region</th>\n",
       "      <th></th>\n",
       "      <th></th>\n",
       "    </tr>\n",
       "  </thead>\n",
       "  <tbody>\n",
       "    <tr>\n",
       "      <th>APAC</th>\n",
       "      <td>1355</td>\n",
       "      <td>1896</td>\n",
       "    </tr>\n",
       "    <tr>\n",
       "      <th>Americas</th>\n",
       "      <td>2140</td>\n",
       "      <td>1793</td>\n",
       "    </tr>\n",
       "    <tr>\n",
       "      <th>EMEA</th>\n",
       "      <td>2189</td>\n",
       "      <td>2471</td>\n",
       "    </tr>\n",
       "    <tr>\n",
       "      <th>Japan</th>\n",
       "      <td>1546</td>\n",
       "      <td>3323</td>\n",
       "    </tr>\n",
       "    <tr>\n",
       "      <th>Middle East</th>\n",
       "      <td>120</td>\n",
       "      <td>50</td>\n",
       "    </tr>\n",
       "  </tbody>\n",
       "</table>\n",
       "</div>"
      ],
      "text/plain": [
       "             casos perdidos  casos ganados\n",
       "Region                                    \n",
       "APAC                   1355           1896\n",
       "Americas               2140           1793\n",
       "EMEA                   2189           2471\n",
       "Japan                  1546           3323\n",
       "Middle East             120             50"
      ]
     },
     "execution_count": 170,
     "metadata": {},
     "output_type": "execute_result"
    }
   ],
   "source": [
    "df_region_ganados_y_perdidos = pd.concat([df_closed_lost.groupby(['Region']).size(),df_closed_won.groupby(['Region']).size()], axis = 1)\n",
    "col_rename = {0:'casos perdidos', 1: 'casos ganados'}\n",
    "df_region_ganados_y_perdidos = df_region_ganados_y_perdidos.rename( columns = col_rename)\n",
    "df_region_ganados_y_perdidos"
   ]
  },
  {
   "cell_type": "code",
   "execution_count": 171,
   "metadata": {},
   "outputs": [
    {
     "data": {
      "text/plain": [
       "<matplotlib.axes._subplots.AxesSubplot at 0x7fa47b7babd0>"
      ]
     },
     "execution_count": 171,
     "metadata": {},
     "output_type": "execute_result"
    },
    {
     "data": {
      "image/png": "[encoded data removed]",
      "text/plain": [
       "<Figure size 2000x1000 with 1 Axes>"
      ]
     },
     "metadata": {},
     "output_type": "display_data"
    }
   ],
   "source": [
    "df_region_ganados_y_perdidos.plot(kind = 'bar')"
   ]
  },
  {
   "cell_type": "code",
   "execution_count": 173,
   "metadata": {},
   "outputs": [
    {
     "data": {
      "text/html": [
       "<div>\n",
       "<style scoped>\n",
       "    .dataframe tbody tr th:only-of-type {\n",
       "        vertical-align: middle;\n",
       "    }\n",
       "\n",
       "    .dataframe tbody tr th {\n",
       "        vertical-align: top;\n",
       "    }\n",
       "\n",
       "    .dataframe thead th {\n",
       "        text-align: right;\n",
       "    }\n",
       "</style>\n",
       "<table border=\"1\" class=\"dataframe\">\n",
       "  <thead>\n",
       "    <tr style=\"text-align: right;\">\n",
       "      <th></th>\n",
       "      <th>Region</th>\n",
       "      <th>Territory</th>\n",
       "      <th>Pricing, Delivery_Terms_Quote_Appr</th>\n",
       "      <th>Pricing, Delivery_Terms_Approved</th>\n",
       "      <th>Bureaucratic_Code_0_Approval</th>\n",
       "      <th>Bureaucratic_Code_0_Approved</th>\n",
       "      <th>Submitted_for_Approval</th>\n",
       "      <th>Bureaucratic_Code</th>\n",
       "      <th>Account_Created_Date</th>\n",
       "      <th>Source</th>\n",
       "      <th>...</th>\n",
       "      <th>Month</th>\n",
       "      <th>Delivery_Quarter</th>\n",
       "      <th>Delivery_Year</th>\n",
       "      <th>Actual_Delivery_Date</th>\n",
       "      <th>TRF</th>\n",
       "      <th>Total_Amount_Currency</th>\n",
       "      <th>Total_Amount</th>\n",
       "      <th>Total_Taxable_Amount_Currency</th>\n",
       "      <th>Total_Taxable_Amount</th>\n",
       "      <th>Stage</th>\n",
       "    </tr>\n",
       "  </thead>\n",
       "  <tbody>\n",
       "    <tr>\n",
       "      <th>0</th>\n",
       "      <td>EMEA</td>\n",
       "      <td>None</td>\n",
       "      <td>1</td>\n",
       "      <td>1</td>\n",
       "      <td>1</td>\n",
       "      <td>1</td>\n",
       "      <td>0</td>\n",
       "      <td>Bureaucratic_Code_4</td>\n",
       "      <td>6/16/2015</td>\n",
       "      <td>None</td>\n",
       "      <td>...</td>\n",
       "      <td>2016 - 5</td>\n",
       "      <td>Q2</td>\n",
       "      <td>2016</td>\n",
       "      <td>NaT</td>\n",
       "      <td>10</td>\n",
       "      <td>EUR</td>\n",
       "      <td>5272800.0</td>\n",
       "      <td>EUR</td>\n",
       "      <td>5272800.0</td>\n",
       "      <td>Closed Lost</td>\n",
       "    </tr>\n",
       "    <tr>\n",
       "      <th>3</th>\n",
       "      <td>Americas</td>\n",
       "      <td>NW America</td>\n",
       "      <td>1</td>\n",
       "      <td>0</td>\n",
       "      <td>1</td>\n",
       "      <td>0</td>\n",
       "      <td>0</td>\n",
       "      <td>Bureaucratic_Code_5</td>\n",
       "      <td>7/27/2013</td>\n",
       "      <td>Source_11</td>\n",
       "      <td>...</td>\n",
       "      <td>2018 - 2</td>\n",
       "      <td>Q1</td>\n",
       "      <td>2018</td>\n",
       "      <td>NaT</td>\n",
       "      <td>14</td>\n",
       "      <td>USD</td>\n",
       "      <td>7421881.5</td>\n",
       "      <td>USD</td>\n",
       "      <td>7421881.5</td>\n",
       "      <td>Closed Lost</td>\n",
       "    </tr>\n",
       "  </tbody>\n",
       "</table>\n",
       "<p>2 rows × 49 columns</p>\n",
       "</div>"
      ],
      "text/plain": [
       "     Region   Territory  Pricing, Delivery_Terms_Quote_Appr  \\\n",
       "0      EMEA        None                                   1   \n",
       "3  Americas  NW America                                   1   \n",
       "\n",
       "   Pricing, Delivery_Terms_Approved  Bureaucratic_Code_0_Approval  \\\n",
       "0                                 1                             1   \n",
       "3                                 0                             1   \n",
       "\n",
       "   Bureaucratic_Code_0_Approved  Submitted_for_Approval    Bureaucratic_Code  \\\n",
       "0                             1                       0  Bureaucratic_Code_4   \n",
       "3                             0                       0  Bureaucratic_Code_5   \n",
       "\n",
       "  Account_Created_Date    Source   ...     Month Delivery_Quarter  \\\n",
       "0            6/16/2015       None  ...  2016 - 5               Q2   \n",
       "3            7/27/2013  Source_11  ...  2018 - 2               Q1   \n",
       "\n",
       "  Delivery_Year  Actual_Delivery_Date TRF Total_Amount_Currency Total_Amount  \\\n",
       "0          2016                   NaT  10                   EUR    5272800.0   \n",
       "3          2018                   NaT  14                   USD    7421881.5   \n",
       "\n",
       "  Total_Taxable_Amount_Currency Total_Taxable_Amount        Stage  \n",
       "0                           EUR            5272800.0  Closed Lost  \n",
       "3                           USD            7421881.5  Closed Lost  \n",
       "\n",
       "[2 rows x 49 columns]"
      ]
     },
     "execution_count": 173,
     "metadata": {},
     "output_type": "execute_result"
    }
   ],
   "source": [
    "df_closed_lost.head(2)"
   ]
  },
  {
   "cell_type": "code",
   "execution_count": 174,
   "metadata": {},
   "outputs": [
    {
     "data": {
      "text/plain": [
       "2017    6317\n",
       "2018    5830\n",
       "2016    4371\n",
       "2019     365\n",
       "Name: Delivery_Year, dtype: int64"
      ]
     },
     "execution_count": 174,
     "metadata": {},
     "output_type": "execute_result"
    }
   ],
   "source": [
    "df['Delivery_Year'].value_counts()"
   ]
  },
  {
   "cell_type": "code",
   "execution_count": 175,
   "metadata": {},
   "outputs": [
    {
     "data": {
      "text/plain": [
       "Delivery_Year  Stage      \n",
       "2016           Closed Lost    2234\n",
       "               Closed Won     2137\n",
       "2017           Closed Lost    2222\n",
       "               Closed Won     4095\n",
       "2018           Closed Lost    2634\n",
       "               Closed Won     3196\n",
       "2019           Closed Lost     260\n",
       "               Closed Won      105\n",
       "dtype: int64"
      ]
     },
     "execution_count": 175,
     "metadata": {},
     "output_type": "execute_result"
    }
   ],
   "source": [
    "df.groupby(['Delivery_Year', 'Stage']).size()"
   ]
  },
  {
   "cell_type": "code",
   "execution_count": 176,
   "metadata": {},
   "outputs": [
    {
     "data": {
      "text/plain": [
       "None            4981\n",
       "Germany         1682\n",
       "NW America      1560\n",
       "Australia       1202\n",
       "India            807\n",
       "                ... \n",
       "Georgia            1\n",
       "Saudi Arabia       1\n",
       "Egypt              1\n",
       "Slovenia           1\n",
       "Monaco             1\n",
       "Name: Territory, Length: 75, dtype: int64"
      ]
     },
     "execution_count": 176,
     "metadata": {},
     "output_type": "execute_result"
    }
   ],
   "source": [
    "## el campo territory cuenta con casi 1/3 de sus valores como None\n",
    "df['Territory'].value_counts()"
   ]
  },
  {
   "cell_type": "code",
   "execution_count": 177,
   "metadata": {},
   "outputs": [
    {
     "data": {
      "text/plain": [
       "Bureaucratic_Code_4    12544\n",
       "Bureaucratic_Code_5     3782\n",
       "Bureaucratic_Code_1      261\n",
       "Bureaucratic_Code_2      242\n",
       "Bureaucratic_Code_0       51\n",
       "Bureaucratic_Code_3        2\n",
       "Bureaucratic_Code_6        1\n",
       "Name: Bureaucratic_Code, dtype: int64"
      ]
     },
     "execution_count": 177,
     "metadata": {},
     "output_type": "execute_result"
    }
   ],
   "source": [
    "df['Bureaucratic_Code'].value_counts()"
   ]
  },
  {
   "cell_type": "code",
   "execution_count": 74,
   "metadata": {},
   "outputs": [
    {
     "data": {
      "text/html": [
       "<div>\n",
       "<style scoped>\n",
       "    .dataframe tbody tr th:only-of-type {\n",
       "        vertical-align: middle;\n",
       "    }\n",
       "\n",
       "    .dataframe tbody tr th {\n",
       "        vertical-align: top;\n",
       "    }\n",
       "\n",
       "    .dataframe thead th {\n",
       "        text-align: right;\n",
       "    }\n",
       "</style>\n",
       "<table border=\"1\" class=\"dataframe\">\n",
       "  <thead>\n",
       "    <tr style=\"text-align: right;\">\n",
       "      <th></th>\n",
       "      <th>Region</th>\n",
       "      <th>Territory</th>\n",
       "      <th>Pricing, Delivery_Terms_Quote_Appr</th>\n",
       "      <th>Pricing, Delivery_Terms_Approved</th>\n",
       "      <th>Bureaucratic_Code_0_Approval</th>\n",
       "      <th>Bureaucratic_Code_0_Approved</th>\n",
       "      <th>Submitted_for_Approval</th>\n",
       "      <th>Bureaucratic_Code</th>\n",
       "      <th>Account_Created_Date</th>\n",
       "      <th>Source</th>\n",
       "      <th>...</th>\n",
       "      <th>Month</th>\n",
       "      <th>Delivery_Quarter</th>\n",
       "      <th>Delivery_Year</th>\n",
       "      <th>Actual_Delivery_Date</th>\n",
       "      <th>TRF</th>\n",
       "      <th>Total_Amount_Currency</th>\n",
       "      <th>Total_Amount</th>\n",
       "      <th>Total_Taxable_Amount_Currency</th>\n",
       "      <th>Total_Taxable_Amount</th>\n",
       "      <th>Stage</th>\n",
       "    </tr>\n",
       "  </thead>\n",
       "  <tbody>\n",
       "    <tr>\n",
       "      <th>3</th>\n",
       "      <td>Americas</td>\n",
       "      <td>NW America</td>\n",
       "      <td>1</td>\n",
       "      <td>0</td>\n",
       "      <td>1</td>\n",
       "      <td>0</td>\n",
       "      <td>0</td>\n",
       "      <td>Bureaucratic_Code_5</td>\n",
       "      <td>7/27/2013</td>\n",
       "      <td>Source_11</td>\n",
       "      <td>...</td>\n",
       "      <td>2018 - 2</td>\n",
       "      <td>Q1</td>\n",
       "      <td>2018</td>\n",
       "      <td>NaT</td>\n",
       "      <td>14</td>\n",
       "      <td>USD</td>\n",
       "      <td>7421881.5</td>\n",
       "      <td>USD</td>\n",
       "      <td>7421881.5</td>\n",
       "      <td>Closed Lost</td>\n",
       "    </tr>\n",
       "    <tr>\n",
       "      <th>4</th>\n",
       "      <td>Americas</td>\n",
       "      <td>NW America</td>\n",
       "      <td>1</td>\n",
       "      <td>0</td>\n",
       "      <td>1</td>\n",
       "      <td>0</td>\n",
       "      <td>0</td>\n",
       "      <td>Bureaucratic_Code_5</td>\n",
       "      <td>7/27/2013</td>\n",
       "      <td>Source_11</td>\n",
       "      <td>...</td>\n",
       "      <td>2018 - 2</td>\n",
       "      <td>Q1</td>\n",
       "      <td>2018</td>\n",
       "      <td>NaT</td>\n",
       "      <td>25</td>\n",
       "      <td>USD</td>\n",
       "      <td>13357192.5</td>\n",
       "      <td>USD</td>\n",
       "      <td>13357192.5</td>\n",
       "      <td>Closed Lost</td>\n",
       "    </tr>\n",
       "    <tr>\n",
       "      <th>5</th>\n",
       "      <td>Americas</td>\n",
       "      <td>NW America</td>\n",
       "      <td>1</td>\n",
       "      <td>0</td>\n",
       "      <td>1</td>\n",
       "      <td>0</td>\n",
       "      <td>0</td>\n",
       "      <td>Bureaucratic_Code_5</td>\n",
       "      <td>7/27/2013</td>\n",
       "      <td>Source_11</td>\n",
       "      <td>...</td>\n",
       "      <td>2018 - 2</td>\n",
       "      <td>Q1</td>\n",
       "      <td>2018</td>\n",
       "      <td>NaT</td>\n",
       "      <td>28</td>\n",
       "      <td>USD</td>\n",
       "      <td>14838277.5</td>\n",
       "      <td>USD</td>\n",
       "      <td>14838277.5</td>\n",
       "      <td>Closed Lost</td>\n",
       "    </tr>\n",
       "    <tr>\n",
       "      <th>6</th>\n",
       "      <td>Americas</td>\n",
       "      <td>NW America</td>\n",
       "      <td>1</td>\n",
       "      <td>0</td>\n",
       "      <td>1</td>\n",
       "      <td>0</td>\n",
       "      <td>0</td>\n",
       "      <td>Bureaucratic_Code_5</td>\n",
       "      <td>7/27/2013</td>\n",
       "      <td>Source_11</td>\n",
       "      <td>...</td>\n",
       "      <td>2017 - 2</td>\n",
       "      <td>Q1</td>\n",
       "      <td>2017</td>\n",
       "      <td>NaT</td>\n",
       "      <td>7</td>\n",
       "      <td>USD</td>\n",
       "      <td>2659494.6</td>\n",
       "      <td>USD</td>\n",
       "      <td>2659494.6</td>\n",
       "      <td>Closed Lost</td>\n",
       "    </tr>\n",
       "    <tr>\n",
       "      <th>8</th>\n",
       "      <td>Japan</td>\n",
       "      <td>None</td>\n",
       "      <td>1</td>\n",
       "      <td>0</td>\n",
       "      <td>0</td>\n",
       "      <td>0</td>\n",
       "      <td>0</td>\n",
       "      <td>Bureaucratic_Code_5</td>\n",
       "      <td>4/20/2015</td>\n",
       "      <td>None</td>\n",
       "      <td>...</td>\n",
       "      <td>2016 - 2</td>\n",
       "      <td>Q1</td>\n",
       "      <td>2016</td>\n",
       "      <td>NaT</td>\n",
       "      <td>0</td>\n",
       "      <td>JPY</td>\n",
       "      <td>15600.0</td>\n",
       "      <td>JPY</td>\n",
       "      <td>470400.0</td>\n",
       "      <td>Closed Lost</td>\n",
       "    </tr>\n",
       "    <tr>\n",
       "      <th>...</th>\n",
       "      <td>...</td>\n",
       "      <td>...</td>\n",
       "      <td>...</td>\n",
       "      <td>...</td>\n",
       "      <td>...</td>\n",
       "      <td>...</td>\n",
       "      <td>...</td>\n",
       "      <td>...</td>\n",
       "      <td>...</td>\n",
       "      <td>...</td>\n",
       "      <td>...</td>\n",
       "      <td>...</td>\n",
       "      <td>...</td>\n",
       "      <td>...</td>\n",
       "      <td>...</td>\n",
       "      <td>...</td>\n",
       "      <td>...</td>\n",
       "      <td>...</td>\n",
       "      <td>...</td>\n",
       "      <td>...</td>\n",
       "      <td>...</td>\n",
       "    </tr>\n",
       "    <tr>\n",
       "      <th>16906</th>\n",
       "      <td>Japan</td>\n",
       "      <td>None</td>\n",
       "      <td>1</td>\n",
       "      <td>0</td>\n",
       "      <td>0</td>\n",
       "      <td>0</td>\n",
       "      <td>0</td>\n",
       "      <td>Bureaucratic_Code_5</td>\n",
       "      <td>4/20/2015</td>\n",
       "      <td>None</td>\n",
       "      <td>...</td>\n",
       "      <td>2016 - 1</td>\n",
       "      <td>Q1</td>\n",
       "      <td>2016</td>\n",
       "      <td>NaT</td>\n",
       "      <td>0</td>\n",
       "      <td>JPY</td>\n",
       "      <td>344760.0</td>\n",
       "      <td>JPY</td>\n",
       "      <td>518760.0</td>\n",
       "      <td>Closed Won</td>\n",
       "    </tr>\n",
       "    <tr>\n",
       "      <th>16930</th>\n",
       "      <td>Americas</td>\n",
       "      <td>SE America</td>\n",
       "      <td>1</td>\n",
       "      <td>0</td>\n",
       "      <td>1</td>\n",
       "      <td>0</td>\n",
       "      <td>0</td>\n",
       "      <td>Bureaucratic_Code_5</td>\n",
       "      <td>9/25/2015</td>\n",
       "      <td>Source_7</td>\n",
       "      <td>...</td>\n",
       "      <td>2016 - 4</td>\n",
       "      <td>Q2</td>\n",
       "      <td>2016</td>\n",
       "      <td>NaT</td>\n",
       "      <td>120</td>\n",
       "      <td>USD</td>\n",
       "      <td>76800640.0</td>\n",
       "      <td>USD</td>\n",
       "      <td>76800640.0</td>\n",
       "      <td>Closed Lost</td>\n",
       "    </tr>\n",
       "    <tr>\n",
       "      <th>16938</th>\n",
       "      <td>EMEA</td>\n",
       "      <td>Germany</td>\n",
       "      <td>1</td>\n",
       "      <td>0</td>\n",
       "      <td>0</td>\n",
       "      <td>0</td>\n",
       "      <td>0</td>\n",
       "      <td>Bureaucratic_Code_5</td>\n",
       "      <td>12/4/2015</td>\n",
       "      <td>None</td>\n",
       "      <td>...</td>\n",
       "      <td>2016 - 8</td>\n",
       "      <td>Q3</td>\n",
       "      <td>2016</td>\n",
       "      <td>NaT</td>\n",
       "      <td>3</td>\n",
       "      <td>EUR</td>\n",
       "      <td>1307775.0</td>\n",
       "      <td>EUR</td>\n",
       "      <td>1307775.0</td>\n",
       "      <td>Closed Lost</td>\n",
       "    </tr>\n",
       "    <tr>\n",
       "      <th>16940</th>\n",
       "      <td>Americas</td>\n",
       "      <td>NE America</td>\n",
       "      <td>1</td>\n",
       "      <td>0</td>\n",
       "      <td>0</td>\n",
       "      <td>0</td>\n",
       "      <td>0</td>\n",
       "      <td>Bureaucratic_Code_5</td>\n",
       "      <td>6/16/2014</td>\n",
       "      <td>None</td>\n",
       "      <td>...</td>\n",
       "      <td>2016 - 10</td>\n",
       "      <td>Q4</td>\n",
       "      <td>2016</td>\n",
       "      <td>NaT</td>\n",
       "      <td>20</td>\n",
       "      <td>USD</td>\n",
       "      <td>10751580.0</td>\n",
       "      <td>USD</td>\n",
       "      <td>21332500.0</td>\n",
       "      <td>Closed Lost</td>\n",
       "    </tr>\n",
       "    <tr>\n",
       "      <th>16941</th>\n",
       "      <td>Americas</td>\n",
       "      <td>NE America</td>\n",
       "      <td>1</td>\n",
       "      <td>0</td>\n",
       "      <td>0</td>\n",
       "      <td>0</td>\n",
       "      <td>0</td>\n",
       "      <td>Bureaucratic_Code_5</td>\n",
       "      <td>6/16/2014</td>\n",
       "      <td>None</td>\n",
       "      <td>...</td>\n",
       "      <td>2016 - 10</td>\n",
       "      <td>Q4</td>\n",
       "      <td>2016</td>\n",
       "      <td>NaT</td>\n",
       "      <td>20</td>\n",
       "      <td>USD</td>\n",
       "      <td>10580920.0</td>\n",
       "      <td>USD</td>\n",
       "      <td>21332500.0</td>\n",
       "      <td>Closed Lost</td>\n",
       "    </tr>\n",
       "  </tbody>\n",
       "</table>\n",
       "<p>3782 rows × 50 columns</p>\n",
       "</div>"
      ],
      "text/plain": [
       "         Region   Territory  Pricing, Delivery_Terms_Quote_Appr  \\\n",
       "3      Americas  NW America                                   1   \n",
       "4      Americas  NW America                                   1   \n",
       "5      Americas  NW America                                   1   \n",
       "6      Americas  NW America                                   1   \n",
       "8         Japan        None                                   1   \n",
       "...         ...         ...                                 ...   \n",
       "16906     Japan        None                                   1   \n",
       "16930  Americas  SE America                                   1   \n",
       "16938      EMEA     Germany                                   1   \n",
       "16940  Americas  NE America                                   1   \n",
       "16941  Americas  NE America                                   1   \n",
       "\n",
       "       Pricing, Delivery_Terms_Approved  Bureaucratic_Code_0_Approval  \\\n",
       "3                                     0                             1   \n",
       "4                                     0                             1   \n",
       "5                                     0                             1   \n",
       "6                                     0                             1   \n",
       "8                                     0                             0   \n",
       "...                                 ...                           ...   \n",
       "16906                                 0                             0   \n",
       "16930                                 0                             1   \n",
       "16938                                 0                             0   \n",
       "16940                                 0                             0   \n",
       "16941                                 0                             0   \n",
       "\n",
       "       Bureaucratic_Code_0_Approved  Submitted_for_Approval  \\\n",
       "3                                 0                       0   \n",
       "4                                 0                       0   \n",
       "5                                 0                       0   \n",
       "6                                 0                       0   \n",
       "8                                 0                       0   \n",
       "...                             ...                     ...   \n",
       "16906                             0                       0   \n",
       "16930                             0                       0   \n",
       "16938                             0                       0   \n",
       "16940                             0                       0   \n",
       "16941                             0                       0   \n",
       "\n",
       "         Bureaucratic_Code Account_Created_Date    Source   ...      Month  \\\n",
       "3      Bureaucratic_Code_5            7/27/2013  Source_11  ...   2018 - 2   \n",
       "4      Bureaucratic_Code_5            7/27/2013  Source_11  ...   2018 - 2   \n",
       "5      Bureaucratic_Code_5            7/27/2013  Source_11  ...   2018 - 2   \n",
       "6      Bureaucratic_Code_5            7/27/2013  Source_11  ...   2017 - 2   \n",
       "8      Bureaucratic_Code_5            4/20/2015       None  ...   2016 - 2   \n",
       "...                    ...                  ...        ...  ...        ...   \n",
       "16906  Bureaucratic_Code_5            4/20/2015       None  ...   2016 - 1   \n",
       "16930  Bureaucratic_Code_5            9/25/2015   Source_7  ...   2016 - 4   \n",
       "16938  Bureaucratic_Code_5            12/4/2015       None  ...   2016 - 8   \n",
       "16940  Bureaucratic_Code_5            6/16/2014       None  ...  2016 - 10   \n",
       "16941  Bureaucratic_Code_5            6/16/2014       None  ...  2016 - 10   \n",
       "\n",
       "      Delivery_Quarter Delivery_Year  Actual_Delivery_Date  TRF  \\\n",
       "3                   Q1          2018                   NaT   14   \n",
       "4                   Q1          2018                   NaT   25   \n",
       "5                   Q1          2018                   NaT   28   \n",
       "6                   Q1          2017                   NaT    7   \n",
       "8                   Q1          2016                   NaT    0   \n",
       "...                ...           ...                   ...  ...   \n",
       "16906               Q1          2016                   NaT    0   \n",
       "16930               Q2          2016                   NaT  120   \n",
       "16938               Q3          2016                   NaT    3   \n",
       "16940               Q4          2016                   NaT   20   \n",
       "16941               Q4          2016                   NaT   20   \n",
       "\n",
       "      Total_Amount_Currency Total_Amount Total_Taxable_Amount_Currency  \\\n",
       "3                       USD    7421881.5                           USD   \n",
       "4                       USD   13357192.5                           USD   \n",
       "5                       USD   14838277.5                           USD   \n",
       "6                       USD    2659494.6                           USD   \n",
       "8                       JPY      15600.0                           JPY   \n",
       "...                     ...          ...                           ...   \n",
       "16906                   JPY     344760.0                           JPY   \n",
       "16930                   USD   76800640.0                           USD   \n",
       "16938                   EUR    1307775.0                           EUR   \n",
       "16940                   USD   10751580.0                           USD   \n",
       "16941                   USD   10580920.0                           USD   \n",
       "\n",
       "      Total_Taxable_Amount        Stage  \n",
       "3                7421881.5  Closed Lost  \n",
       "4               13357192.5  Closed Lost  \n",
       "5               14838277.5  Closed Lost  \n",
       "6                2659494.6  Closed Lost  \n",
       "8                 470400.0  Closed Lost  \n",
       "...                    ...          ...  \n",
       "16906             518760.0   Closed Won  \n",
       "16930           76800640.0  Closed Lost  \n",
       "16938            1307775.0  Closed Lost  \n",
       "16940           21332500.0  Closed Lost  \n",
       "16941           21332500.0  Closed Lost  \n",
       "\n",
       "[3782 rows x 50 columns]"
      ]
     },
     "execution_count": 74,
     "metadata": {},
     "output_type": "execute_result"
    }
   ],
   "source": [
    "df[df['Bureaucratic_Code'] == 'Bureaucratic_Code_5']"
   ]
  },
  {
   "cell_type": "code",
   "execution_count": 132,
   "metadata": {},
   "outputs": [
    {
     "data": {
      "text/plain": [
       "False    8467\n",
       "True     1324\n",
       "dtype: int64"
      ]
     },
     "execution_count": 132,
     "metadata": {},
     "output_type": "execute_result"
    }
   ],
   "source": [
    "## n = cantidad de veces que aparece un Opportunity_ID\n",
    "## mirando las oportunidades que estan registradas con el mismo ID con mayor cantidad \n",
    "n = 2\n",
    "serie = df.groupby('Opportunity_ID').size()>n\n",
    "serie.value_counts()"
   ]
  },
  {
   "cell_type": "code",
   "execution_count": 129,
   "metadata": {},
   "outputs": [],
   "source": [
    "serie_true = serie[serie == True]"
   ]
  },
  {
   "cell_type": "code",
   "execution_count": 130,
   "metadata": {},
   "outputs": [
    {
     "data": {
      "text/plain": [
       "(6831, 51)"
      ]
     },
     "execution_count": 130,
     "metadata": {},
     "output_type": "execute_result"
    }
   ],
   "source": [
    "df_merge = df.merge(serie_true.to_frame(), left_on='Opportunity_ID', right_index=True, how = 'right')\n",
    "df_merge.shape"
   ]
  },
  {
   "cell_type": "code",
   "execution_count": 131,
   "metadata": {},
   "outputs": [
    {
     "data": {
      "text/plain": [
       "Closed Won     4422\n",
       "Closed Lost    2409\n",
       "Name: Stage, dtype: int64"
      ]
     },
     "execution_count": 131,
     "metadata": {},
     "output_type": "execute_result"
    }
   ],
   "source": [
    "## Cuanto hay mayor cantidad de propuestas para un mismo Opportunity_ID la tasa de existo de la propuesta BAJA\n",
    "df_merge['Stage'].value_counts()"
   ]
  },
  {
   "cell_type": "code",
   "execution_count": 135,
   "metadata": {},
   "outputs": [
    {
     "data": {
      "text/plain": [
       "None    6909\n",
       "479       36\n",
       "108       36\n",
       "2575      18\n",
       "3876      16\n",
       "        ... \n",
       "3636       1\n",
       "4649       1\n",
       "2601       1\n",
       "1403       1\n",
       "175        1\n",
       "Name: Sales_Contract_No, Length: 5267, dtype: int64"
      ]
     },
     "execution_count": 135,
     "metadata": {},
     "output_type": "execute_result"
    }
   ],
   "source": [
    "df['Sales_Contract_No'].value_counts()"
   ]
  },
  {
   "cell_type": "code",
   "execution_count": 156,
   "metadata": {},
   "outputs": [
    {
     "data": {
      "text/plain": [
       "Closed Won     9395\n",
       "Closed Lost     579\n",
       "Name: Stage, dtype: int64"
      ]
     },
     "execution_count": 156,
     "metadata": {},
     "output_type": "execute_result"
    }
   ],
   "source": [
    "## Si tiene un Numero de contrato la tasa de exito es alta\n",
    "df[df['Sales_Contract_No'] != 'None']['Stage'].value_counts()"
   ]
  },
  {
   "cell_type": "code",
   "execution_count": 158,
   "metadata": {},
   "outputs": [
    {
     "data": {
      "text/plain": [
       "Closed Lost    6771\n",
       "Closed Won      138\n",
       "Name: Stage, dtype: int64"
      ]
     },
     "execution_count": 158,
     "metadata": {},
     "output_type": "execute_result"
    }
   ],
   "source": [
    "## Si NO tiene un Numero de contrato la tasa de exito es baja\n",
    "df[df['Sales_Contract_No'] == 'None']['Stage'].value_counts()"
   ]
  },
  {
   "cell_type": "code",
   "execution_count": 159,
   "metadata": {},
   "outputs": [
    {
     "data": {
      "text/plain": [
       "None              15871\n",
       "Other               515\n",
       "Product_Type_3      179\n",
       "Product_Type_1      142\n",
       "Product_Type_0       94\n",
       "Product_Type_4       73\n",
       "Product_Type_2        9\n",
       "Name: Product_Type, dtype: int64"
      ]
     },
     "execution_count": 159,
     "metadata": {},
     "output_type": "execute_result"
    }
   ],
   "source": [
    "df['Product_Type'].value_counts()"
   ]
  },
  {
   "cell_type": "code",
   "execution_count": 161,
   "metadata": {},
   "outputs": [
    {
     "data": {
      "text/plain": [
       "Closed Lost    1012\n",
       "Name: Stage, dtype: int64"
      ]
     },
     "execution_count": 161,
     "metadata": {},
     "output_type": "execute_result"
    }
   ],
   "source": [
    "## Si tiene un Product_Type todos los casos estan perdidos\n",
    "df[df['Product_Type'] != 'None']['Stage'].value_counts()"
   ]
  },
  {
   "cell_type": "code",
   "execution_count": 162,
   "metadata": {},
   "outputs": [
    {
     "data": {
      "text/plain": [
       "NaT    16883\n",
       "Name: Last_Activity, dtype: int64"
      ]
     },
     "execution_count": 162,
     "metadata": {},
     "output_type": "execute_result"
    }
   ],
   "source": [
    "## drop de la col Last_Activity por no aportar informacion\n",
    "df['Last_Activity'].value_counts()"
   ]
  }
 ],
 "metadata": {
  "kernelspec": {
   "display_name": "Python 3",
   "language": "python",
   "name": "python3"
  },
  "language_info": {
   "codemirror_mode": {
    "name": "ipython",
    "version": 3
   },
   "file_extension": ".py",
   "mimetype": "text/x-python",
   "name": "python",
   "nbconvert_exporter": "python",
   "pygments_lexer": "ipython3",
   "version": "3.8.3"
  }
 },
 "nbformat": 4,
 "nbformat_minor": 4
}
