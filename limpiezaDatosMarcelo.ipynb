{
 "cells": [
  {
   "cell_type": "code",
   "execution_count": 2,
   "metadata": {},
   "outputs": [
    {
     "data": {
      "text/plain": [
       "(16947, 52)"
      ]
     },
     "execution_count": 2,
     "metadata": {},
     "output_type": "execute_result"
    }
   ],
   "source": [
    "import pandas as pd\n",
    "import numpy as np\n",
    "\n",
    "df = pd.read_csv(\"./data/train.csv\")\n",
    "df.shape"
   ]
  },
  {
   "cell_type": "code",
   "execution_count": 3,
   "metadata": {},
   "outputs": [
    {
     "data": {
      "text/plain": [
       "Index(['Submitted_for_Approval', 'Last_Activity', 'ASP_(converted)_Currency',\n",
       "       'Actual_Delivery_Date', 'Prod_Category_A'],\n",
       "      dtype='object')"
      ]
     },
     "execution_count": 3,
     "metadata": {},
     "output_type": "execute_result"
    }
   ],
   "source": [
    "# columnas con valor unico -> no aportan informacion\n",
    "nunique = df.apply(pd.Series.nunique)\n",
    "cols_to_drop = nunique[nunique == 1].index\n",
    "cols_to_drop"
   ]
  },
  {
   "cell_type": "code",
   "execution_count": 4,
   "metadata": {},
   "outputs": [
    {
     "data": {
      "text/plain": [
       "(16947, 47)"
      ]
     },
     "execution_count": 4,
     "metadata": {},
     "output_type": "execute_result"
    }
   ],
   "source": [
    "# Elimino columnas que no aporta informacion\n",
    "df.drop(cols_to_drop, axis=1, inplace = True)\n",
    "df.shape"
   ]
  },
  {
   "cell_type": "code",
   "execution_count": 5,
   "metadata": {},
   "outputs": [
    {
     "data": {
      "text/plain": [
       "(64, 47)"
      ]
     },
     "execution_count": 5,
     "metadata": {},
     "output_type": "execute_result"
    }
   ],
   "source": [
    "# Las propuestas diferentes a Closed Won o Closed Lost representan una infima cantidad (64/16mil)\n",
    "# Son propuestas en curso que estan todavia en diferententes fases y no aportan informacion para predecir\n",
    "# si la venta se produce o no\n",
    "# son la moyoria del 2019 o 2020, y una que quedo colgada del 2017\n",
    "df[(df['Stage']!= 'Closed Lost') & (df['Stage']!= 'Closed Won') ].shape"
   ]
  },
  {
   "cell_type": "code",
   "execution_count": 6,
   "metadata": {},
   "outputs": [],
   "source": [
    "# elimino esas 64 columnas\n",
    "df = df[(df['Stage']== 'Closed Lost') | (df['Stage']== 'Closed Won') ]"
   ]
  },
  {
   "cell_type": "code",
   "execution_count": 12,
   "metadata": {},
   "outputs": [
    {
     "data": {
      "text/plain": [
       "None     15859\n",
       "Other      609\n",
       "0.24        27\n",
       "0.41        22\n",
       "0.28        20\n",
       "0.27        18\n",
       "0.29        17\n",
       "0.32        15\n",
       "0.38        14\n",
       "0.35        14\n",
       "0.23        13\n",
       "0.33        12\n",
       "0.42        12\n",
       "0.3         11\n",
       "0.26        11\n",
       "0.34        11\n",
       "0.31        10\n",
       "0.245        8\n",
       "0.305        7\n",
       "0.25         7\n",
       "0.39         6\n",
       "0.45         6\n",
       "0.335        6\n",
       "0.47         6\n",
       "0.225        6\n",
       "0.325        6\n",
       "0.22         6\n",
       "0.2          5\n",
       "0.36         4\n",
       "0.285        4\n",
       "0.275        4\n",
       "0.37         4\n",
       "0.445        4\n",
       "0.355        3\n",
       "0.265        3\n",
       "0.255        3\n",
       "0.295        3\n",
       "0.56         2\n",
       "0.4          2\n",
       "0.215        2\n",
       "0.505        2\n",
       "0.49         2\n",
       "0.235        2\n",
       "0.44         2\n",
       "0.345        2\n",
       "0.375        2\n",
       "0.315        2\n",
       "0.48         2\n",
       "0.52         2\n",
       "0.465        1\n",
       "0.365        1\n",
       "0.21         1\n",
       "0.55         1\n",
       "Name: Price, dtype: int64"
      ]
     },
     "execution_count": 12,
     "metadata": {},
     "output_type": "execute_result"
    }
   ],
   "source": [
    "df = df[df.Total_Amount.notna()]\n",
    "df.Price.value_counts()"
   ]
  },
  {
   "cell_type": "markdown",
   "metadata": {},
   "source": [
    "Como se puede ver, en el 15859 de 16824 registros el valor es None, si contamos tambien los que tiene Other estamos hablando de 16468/16824.\n",
    "Por lo que podriamos no utilizar"
   ]
  },
  {
   "cell_type": "code",
   "execution_count": null,
   "metadata": {},
   "outputs": [],
   "source": [
    "df.Size.value_counts()"
   ]
  },
  {
   "cell_type": "markdown",
   "metadata": {},
   "source": [
    "En este caso, podemos ver que la columna Size, tiene informacion sonbre apenas el 3.47%(586/16888b) de los datos, con lo que tampoco la tendremos en cuenta."
   ]
  },
  {
   "cell_type": "code",
   "execution_count": 15,
   "metadata": {},
   "outputs": [],
   "source": [
    "df.drop('Size',\n",
    "  axis='columns', inplace=True)\n",
    "df.drop('Price',\n",
    "  axis='columns', inplace=True)"
   ]
  },
  {
   "cell_type": "code",
   "execution_count": null,
   "metadata": {},
   "outputs": [],
   "source": []
  },
  {
   "cell_type": "code",
   "execution_count": null,
   "metadata": {},
   "outputs": [],
   "source": []
  },
  {
   "cell_type": "code",
   "execution_count": 7,
   "metadata": {},
   "outputs": [
    {
     "data": {
      "text/plain": [
       "(16883, 47)"
      ]
     },
     "execution_count": 7,
     "metadata": {},
     "output_type": "execute_result"
    }
   ],
   "source": [
    "df.to_csv(r'./data/train_clean.csv', index = False)\n",
    "df_clean = pd.read_csv(\"./data/train_clean.csv\")\n",
    "df_clean.shape"
   ]
  }
 ],
 "metadata": {
  "kernelspec": {
   "display_name": "Python 3",
   "language": "python",
   "name": "python3"
  },
  "language_info": {
   "codemirror_mode": {
    "name": "ipython",
    "version": 3
   },
   "file_extension": ".py",
   "mimetype": "text/x-python",
   "name": "python",
   "nbconvert_exporter": "python",
   "pygments_lexer": "ipython3",
   "version": "3.8.5"
  }
 },
 "nbformat": 4,
 "nbformat_minor": 4
}
