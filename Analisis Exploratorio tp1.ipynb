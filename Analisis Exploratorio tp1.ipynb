{
 "cells": [
  {
   "cell_type": "code",
   "execution_count": 2,
   "metadata": {},
   "outputs": [
    {
     "data": {
      "text/html": [
       "<div>\n",
       "<style scoped>\n",
       "    .dataframe tbody tr th:only-of-type {\n",
       "        vertical-align: middle;\n",
       "    }\n",
       "\n",
       "    .dataframe tbody tr th {\n",
       "        vertical-align: top;\n",
       "    }\n",
       "\n",
       "    .dataframe thead th {\n",
       "        text-align: right;\n",
       "    }\n",
       "</style>\n",
       "<table border=\"1\" class=\"dataframe\">\n",
       "  <thead>\n",
       "    <tr style=\"text-align: right;\">\n",
       "      <th></th>\n",
       "      <th>ID</th>\n",
       "      <th>Region</th>\n",
       "      <th>Territory</th>\n",
       "      <th>Pricing, Delivery_Terms_Quote_Appr</th>\n",
       "      <th>Pricing, Delivery_Terms_Approved</th>\n",
       "      <th>Bureaucratic_Code_0_Approval</th>\n",
       "      <th>Bureaucratic_Code_0_Approved</th>\n",
       "      <th>Bureaucratic_Code</th>\n",
       "      <th>Account_Created_Date</th>\n",
       "      <th>Source</th>\n",
       "      <th>...</th>\n",
       "      <th>Planned_Delivery_End_Date</th>\n",
       "      <th>Month</th>\n",
       "      <th>Delivery_Quarter</th>\n",
       "      <th>Delivery_Year</th>\n",
       "      <th>TRF</th>\n",
       "      <th>Total_Amount_Currency</th>\n",
       "      <th>Total_Amount</th>\n",
       "      <th>Total_Taxable_Amount_Currency</th>\n",
       "      <th>Total_Taxable_Amount</th>\n",
       "      <th>Stage</th>\n",
       "    </tr>\n",
       "  </thead>\n",
       "  <tbody>\n",
       "    <tr>\n",
       "      <th>16881</th>\n",
       "      <td>28561</td>\n",
       "      <td>Americas</td>\n",
       "      <td>NE America</td>\n",
       "      <td>1</td>\n",
       "      <td>1</td>\n",
       "      <td>1</td>\n",
       "      <td>1</td>\n",
       "      <td>Bureaucratic_Code_4</td>\n",
       "      <td>10/20/2015</td>\n",
       "      <td>None</td>\n",
       "      <td>...</td>\n",
       "      <td>4/29/2016</td>\n",
       "      <td>2016 - 4</td>\n",
       "      <td>Q2</td>\n",
       "      <td>2016</td>\n",
       "      <td>4</td>\n",
       "      <td>USD</td>\n",
       "      <td>2346796.88</td>\n",
       "      <td>USD</td>\n",
       "      <td>0.0</td>\n",
       "      <td>Closed Lost</td>\n",
       "    </tr>\n",
       "    <tr>\n",
       "      <th>16882</th>\n",
       "      <td>28318</td>\n",
       "      <td>Americas</td>\n",
       "      <td>NE America</td>\n",
       "      <td>1</td>\n",
       "      <td>1</td>\n",
       "      <td>1</td>\n",
       "      <td>1</td>\n",
       "      <td>Bureaucratic_Code_4</td>\n",
       "      <td>9/3/2015</td>\n",
       "      <td>None</td>\n",
       "      <td>...</td>\n",
       "      <td>8/31/2016</td>\n",
       "      <td>2016 - 7</td>\n",
       "      <td>Q3</td>\n",
       "      <td>2016</td>\n",
       "      <td>40</td>\n",
       "      <td>USD</td>\n",
       "      <td>25603200.00</td>\n",
       "      <td>USD</td>\n",
       "      <td>0.0</td>\n",
       "      <td>Closed Lost</td>\n",
       "    </tr>\n",
       "  </tbody>\n",
       "</table>\n",
       "<p>2 rows × 46 columns</p>\n",
       "</div>"
      ],
      "text/plain": [
       "          ID    Region   Territory  Pricing, Delivery_Terms_Quote_Appr  \\\n",
       "16881  28561  Americas  NE America                                   1   \n",
       "16882  28318  Americas  NE America                                   1   \n",
       "\n",
       "       Pricing, Delivery_Terms_Approved  Bureaucratic_Code_0_Approval  \\\n",
       "16881                                 1                             1   \n",
       "16882                                 1                             1   \n",
       "\n",
       "       Bureaucratic_Code_0_Approved    Bureaucratic_Code Account_Created_Date  \\\n",
       "16881                             1  Bureaucratic_Code_4           10/20/2015   \n",
       "16882                             1  Bureaucratic_Code_4             9/3/2015   \n",
       "\n",
       "      Source   ... Planned_Delivery_End_Date     Month Delivery_Quarter  \\\n",
       "16881    None  ...                 4/29/2016  2016 - 4               Q2   \n",
       "16882    None  ...                 8/31/2016  2016 - 7               Q3   \n",
       "\n",
       "       Delivery_Year TRF Total_Amount_Currency Total_Amount  \\\n",
       "16881           2016   4                   USD   2346796.88   \n",
       "16882           2016  40                   USD  25603200.00   \n",
       "\n",
       "      Total_Taxable_Amount_Currency Total_Taxable_Amount        Stage  \n",
       "16881                           USD                  0.0  Closed Lost  \n",
       "16882                           USD                  0.0  Closed Lost  \n",
       "\n",
       "[2 rows x 46 columns]"
      ]
     },
     "execution_count": 2,
     "metadata": {},
     "output_type": "execute_result"
    }
   ],
   "source": [
    "import pandas as pd\n",
    "import numpy as np\n",
    "df = pd.read_csv(\"./data/train_clean.csv\")\n",
    "\n",
    "df.tail(2)"
   ]
  },
  {
   "cell_type": "code",
   "execution_count": 3,
   "metadata": {},
   "outputs": [
    {
     "data": {
      "text/plain": [
       "(16883, 46)"
      ]
     },
     "execution_count": 3,
     "metadata": {},
     "output_type": "execute_result"
    }
   ],
   "source": [
    "df.shape"
   ]
  },
  {
   "cell_type": "code",
   "execution_count": 4,
   "metadata": {},
   "outputs": [],
   "source": [
    "# 16947 registros y 52 columnas"
   ]
  },
  {
   "cell_type": "code",
   "execution_count": 5,
   "metadata": {},
   "outputs": [
    {
     "data": {
      "text/plain": [
       "Index(['ID', 'Region', 'Territory', 'Pricing, Delivery_Terms_Quote_Appr',\n",
       "       'Pricing, Delivery_Terms_Approved', 'Bureaucratic_Code_0_Approval',\n",
       "       'Bureaucratic_Code_0_Approved', 'Bureaucratic_Code',\n",
       "       'Account_Created_Date', 'Source ', 'Billing_Country', 'Account_Name',\n",
       "       'Opportunity_Name', 'Opportunity_ID', 'Sales_Contract_No',\n",
       "       'Account_Owner', 'Opportunity_Owner', 'Account_Type',\n",
       "       'Opportunity_Type', 'Delivery_Terms', 'Opportunity_Created_Date',\n",
       "       'Brand', 'Product_Type', 'Size', 'Product_Category_B', 'Price',\n",
       "       'Currency', 'Quote_Expiry_Date', 'Last_Modified_Date',\n",
       "       'Last_Modified_By', 'Product_Family', 'Product_Name', 'ASP_Currency',\n",
       "       'ASP', 'ASP_(converted)', 'Planned_Delivery_Start_Date',\n",
       "       'Planned_Delivery_End_Date', 'Month', 'Delivery_Quarter',\n",
       "       'Delivery_Year', 'TRF', 'Total_Amount_Currency', 'Total_Amount',\n",
       "       'Total_Taxable_Amount_Currency', 'Total_Taxable_Amount', 'Stage'],\n",
       "      dtype='object')"
      ]
     },
     "execution_count": 5,
     "metadata": {},
     "output_type": "execute_result"
    }
   ],
   "source": [
    "df.columns"
   ]
  },
  {
   "cell_type": "code",
   "execution_count": 6,
   "metadata": {},
   "outputs": [
    {
     "data": {
      "text/html": [
       "<div>\n",
       "<style scoped>\n",
       "    .dataframe tbody tr th:only-of-type {\n",
       "        vertical-align: middle;\n",
       "    }\n",
       "\n",
       "    .dataframe tbody tr th {\n",
       "        vertical-align: top;\n",
       "    }\n",
       "\n",
       "    .dataframe thead th {\n",
       "        text-align: right;\n",
       "    }\n",
       "</style>\n",
       "<table border=\"1\" class=\"dataframe\">\n",
       "  <thead>\n",
       "    <tr style=\"text-align: right;\">\n",
       "      <th></th>\n",
       "      <th>ID</th>\n",
       "      <th>Pricing, Delivery_Terms_Quote_Appr</th>\n",
       "      <th>Pricing, Delivery_Terms_Approved</th>\n",
       "      <th>Bureaucratic_Code_0_Approval</th>\n",
       "      <th>Bureaucratic_Code_0_Approved</th>\n",
       "      <th>Opportunity_ID</th>\n",
       "      <th>ASP</th>\n",
       "      <th>ASP_(converted)</th>\n",
       "      <th>Delivery_Year</th>\n",
       "      <th>TRF</th>\n",
       "      <th>Total_Amount</th>\n",
       "      <th>Total_Taxable_Amount</th>\n",
       "    </tr>\n",
       "  </thead>\n",
       "  <tbody>\n",
       "    <tr>\n",
       "      <th>count</th>\n",
       "      <td>16883.000000</td>\n",
       "      <td>16883.000000</td>\n",
       "      <td>16883.000000</td>\n",
       "      <td>16883.000000</td>\n",
       "      <td>16883.000000</td>\n",
       "      <td>16883.000000</td>\n",
       "      <td>13679.000000</td>\n",
       "      <td>13679.000000</td>\n",
       "      <td>16883.000000</td>\n",
       "      <td>16883.000000</td>\n",
       "      <td>1.682400e+04</td>\n",
       "      <td>1.688300e+04</td>\n",
       "    </tr>\n",
       "    <tr>\n",
       "      <th>mean</th>\n",
       "      <td>17689.638453</td>\n",
       "      <td>0.807262</td>\n",
       "      <td>0.583249</td>\n",
       "      <td>0.473494</td>\n",
       "      <td>0.317538</td>\n",
       "      <td>5317.061956</td>\n",
       "      <td>6.977507</td>\n",
       "      <td>0.432941</td>\n",
       "      <td>2017.129657</td>\n",
       "      <td>2.335841</td>\n",
       "      <td>1.784533e+06</td>\n",
       "      <td>3.095833e+06</td>\n",
       "    </tr>\n",
       "    <tr>\n",
       "      <th>std</th>\n",
       "      <td>6938.726406</td>\n",
       "      <td>0.394461</td>\n",
       "      <td>0.493035</td>\n",
       "      <td>0.499312</td>\n",
       "      <td>0.465533</td>\n",
       "      <td>3316.269606</td>\n",
       "      <td>18.849489</td>\n",
       "      <td>0.760244</td>\n",
       "      <td>0.820929</td>\n",
       "      <td>12.186565</td>\n",
       "      <td>1.302066e+07</td>\n",
       "      <td>1.854964e+07</td>\n",
       "    </tr>\n",
       "    <tr>\n",
       "      <th>min</th>\n",
       "      <td>4854.000000</td>\n",
       "      <td>0.000000</td>\n",
       "      <td>0.000000</td>\n",
       "      <td>0.000000</td>\n",
       "      <td>0.000000</td>\n",
       "      <td>0.000000</td>\n",
       "      <td>0.000000</td>\n",
       "      <td>0.000000</td>\n",
       "      <td>2016.000000</td>\n",
       "      <td>0.000000</td>\n",
       "      <td>0.000000e+00</td>\n",
       "      <td>0.000000e+00</td>\n",
       "    </tr>\n",
       "    <tr>\n",
       "      <th>25%</th>\n",
       "      <td>12013.500000</td>\n",
       "      <td>1.000000</td>\n",
       "      <td>0.000000</td>\n",
       "      <td>0.000000</td>\n",
       "      <td>0.000000</td>\n",
       "      <td>2438.500000</td>\n",
       "      <td>0.360000</td>\n",
       "      <td>0.375000</td>\n",
       "      <td>2016.000000</td>\n",
       "      <td>0.000000</td>\n",
       "      <td>2.660000e+04</td>\n",
       "      <td>8.540752e+04</td>\n",
       "    </tr>\n",
       "    <tr>\n",
       "      <th>50%</th>\n",
       "      <td>18152.000000</td>\n",
       "      <td>1.000000</td>\n",
       "      <td>1.000000</td>\n",
       "      <td>0.000000</td>\n",
       "      <td>0.000000</td>\n",
       "      <td>5295.000000</td>\n",
       "      <td>0.400000</td>\n",
       "      <td>0.412850</td>\n",
       "      <td>2017.000000</td>\n",
       "      <td>0.000000</td>\n",
       "      <td>1.069790e+05</td>\n",
       "      <td>3.753945e+05</td>\n",
       "    </tr>\n",
       "    <tr>\n",
       "      <th>75%</th>\n",
       "      <td>23900.500000</td>\n",
       "      <td>1.000000</td>\n",
       "      <td>1.000000</td>\n",
       "      <td>1.000000</td>\n",
       "      <td>1.000000</td>\n",
       "      <td>7664.500000</td>\n",
       "      <td>0.505000</td>\n",
       "      <td>0.476490</td>\n",
       "      <td>2018.000000</td>\n",
       "      <td>1.000000</td>\n",
       "      <td>4.540625e+05</td>\n",
       "      <td>1.031472e+06</td>\n",
       "    </tr>\n",
       "    <tr>\n",
       "      <th>max</th>\n",
       "      <td>28773.000000</td>\n",
       "      <td>1.000000</td>\n",
       "      <td>1.000000</td>\n",
       "      <td>1.000000</td>\n",
       "      <td>1.000000</td>\n",
       "      <td>12803.000000</td>\n",
       "      <td>80.000000</td>\n",
       "      <td>67.000000</td>\n",
       "      <td>2019.000000</td>\n",
       "      <td>500.000000</td>\n",
       "      <td>9.199924e+08</td>\n",
       "      <td>1.356339e+09</td>\n",
       "    </tr>\n",
       "  </tbody>\n",
       "</table>\n",
       "</div>"
      ],
      "text/plain": [
       "                 ID  Pricing, Delivery_Terms_Quote_Appr  \\\n",
       "count  16883.000000                        16883.000000   \n",
       "mean   17689.638453                            0.807262   \n",
       "std     6938.726406                            0.394461   \n",
       "min     4854.000000                            0.000000   \n",
       "25%    12013.500000                            1.000000   \n",
       "50%    18152.000000                            1.000000   \n",
       "75%    23900.500000                            1.000000   \n",
       "max    28773.000000                            1.000000   \n",
       "\n",
       "       Pricing, Delivery_Terms_Approved  Bureaucratic_Code_0_Approval  \\\n",
       "count                      16883.000000                  16883.000000   \n",
       "mean                           0.583249                      0.473494   \n",
       "std                            0.493035                      0.499312   \n",
       "min                            0.000000                      0.000000   \n",
       "25%                            0.000000                      0.000000   \n",
       "50%                            1.000000                      0.000000   \n",
       "75%                            1.000000                      1.000000   \n",
       "max                            1.000000                      1.000000   \n",
       "\n",
       "       Bureaucratic_Code_0_Approved  Opportunity_ID           ASP  \\\n",
       "count                  16883.000000    16883.000000  13679.000000   \n",
       "mean                       0.317538     5317.061956      6.977507   \n",
       "std                        0.465533     3316.269606     18.849489   \n",
       "min                        0.000000        0.000000      0.000000   \n",
       "25%                        0.000000     2438.500000      0.360000   \n",
       "50%                        0.000000     5295.000000      0.400000   \n",
       "75%                        1.000000     7664.500000      0.505000   \n",
       "max                        1.000000    12803.000000     80.000000   \n",
       "\n",
       "       ASP_(converted)  Delivery_Year           TRF  Total_Amount  \\\n",
       "count     13679.000000   16883.000000  16883.000000  1.682400e+04   \n",
       "mean          0.432941    2017.129657      2.335841  1.784533e+06   \n",
       "std           0.760244       0.820929     12.186565  1.302066e+07   \n",
       "min           0.000000    2016.000000      0.000000  0.000000e+00   \n",
       "25%           0.375000    2016.000000      0.000000  2.660000e+04   \n",
       "50%           0.412850    2017.000000      0.000000  1.069790e+05   \n",
       "75%           0.476490    2018.000000      1.000000  4.540625e+05   \n",
       "max          67.000000    2019.000000    500.000000  9.199924e+08   \n",
       "\n",
       "       Total_Taxable_Amount  \n",
       "count          1.688300e+04  \n",
       "mean           3.095833e+06  \n",
       "std            1.854964e+07  \n",
       "min            0.000000e+00  \n",
       "25%            8.540752e+04  \n",
       "50%            3.753945e+05  \n",
       "75%            1.031472e+06  \n",
       "max            1.356339e+09  "
      ]
     },
     "execution_count": 6,
     "metadata": {},
     "output_type": "execute_result"
    }
   ],
   "source": [
    "df.describe()"
   ]
  },
  {
   "cell_type": "code",
   "execution_count": 7,
   "metadata": {},
   "outputs": [
    {
     "name": "stdout",
     "output_type": "stream",
     "text": [
      "<class 'pandas.core.frame.DataFrame'>\n",
      "RangeIndex: 16883 entries, 0 to 16882\n",
      "Data columns (total 46 columns):\n",
      " #   Column                              Non-Null Count  Dtype  \n",
      "---  ------                              --------------  -----  \n",
      " 0   ID                                  16883 non-null  int64  \n",
      " 1   Region                              16883 non-null  object \n",
      " 2   Territory                           16883 non-null  object \n",
      " 3   Pricing, Delivery_Terms_Quote_Appr  16883 non-null  int64  \n",
      " 4   Pricing, Delivery_Terms_Approved    16883 non-null  int64  \n",
      " 5   Bureaucratic_Code_0_Approval        16883 non-null  int64  \n",
      " 6   Bureaucratic_Code_0_Approved        16883 non-null  int64  \n",
      " 7   Bureaucratic_Code                   16883 non-null  object \n",
      " 8   Account_Created_Date                16883 non-null  object \n",
      " 9   Source                              16883 non-null  object \n",
      " 10  Billing_Country                     16883 non-null  object \n",
      " 11  Account_Name                        16883 non-null  object \n",
      " 12  Opportunity_Name                    16883 non-null  object \n",
      " 13  Opportunity_ID                      16883 non-null  int64  \n",
      " 14  Sales_Contract_No                   16883 non-null  object \n",
      " 15  Account_Owner                       16883 non-null  object \n",
      " 16  Opportunity_Owner                   16883 non-null  object \n",
      " 17  Account_Type                        16883 non-null  object \n",
      " 18  Opportunity_Type                    16883 non-null  object \n",
      " 19  Delivery_Terms                      16883 non-null  object \n",
      " 20  Opportunity_Created_Date            16883 non-null  object \n",
      " 21  Brand                               16883 non-null  object \n",
      " 22  Product_Type                        16883 non-null  object \n",
      " 23  Size                                16883 non-null  object \n",
      " 24  Product_Category_B                  16883 non-null  object \n",
      " 25  Price                               16883 non-null  object \n",
      " 26  Currency                            16883 non-null  object \n",
      " 27  Quote_Expiry_Date                   16883 non-null  object \n",
      " 28  Last_Modified_Date                  16883 non-null  object \n",
      " 29  Last_Modified_By                    16883 non-null  object \n",
      " 30  Product_Family                      16883 non-null  object \n",
      " 31  Product_Name                        16883 non-null  object \n",
      " 32  ASP_Currency                        16883 non-null  object \n",
      " 33  ASP                                 13679 non-null  float64\n",
      " 34  ASP_(converted)                     13679 non-null  float64\n",
      " 35  Planned_Delivery_Start_Date         16883 non-null  object \n",
      " 36  Planned_Delivery_End_Date           16883 non-null  object \n",
      " 37  Month                               16883 non-null  object \n",
      " 38  Delivery_Quarter                    16883 non-null  object \n",
      " 39  Delivery_Year                       16883 non-null  int64  \n",
      " 40  TRF                                 16883 non-null  int64  \n",
      " 41  Total_Amount_Currency               16883 non-null  object \n",
      " 42  Total_Amount                        16824 non-null  float64\n",
      " 43  Total_Taxable_Amount_Currency       16883 non-null  object \n",
      " 44  Total_Taxable_Amount                16883 non-null  float64\n",
      " 45  Stage                               16883 non-null  object \n",
      "dtypes: float64(4), int64(8), object(34)\n",
      "memory usage: 5.9+ MB\n"
     ]
    }
   ],
   "source": [
    "df.info()"
   ]
  },
  {
   "cell_type": "code",
   "execution_count": 8,
   "metadata": {},
   "outputs": [],
   "source": [
    "# Analizar\n",
    "## ASP, ASP_(converted) 13738 no-nulos\n",
    "## Total_Amount  16888 no- nulos - casi todos"
   ]
  },
  {
   "cell_type": "code",
   "execution_count": 11,
   "metadata": {},
   "outputs": [
    {
     "name": "stdout",
     "output_type": "stream",
     "text": [
      "<class 'pandas.core.frame.DataFrame'>\n",
      "RangeIndex: 16883 entries, 0 to 16882\n",
      "Data columns (total 46 columns):\n",
      " #   Column                              Non-Null Count  Dtype         \n",
      "---  ------                              --------------  -----         \n",
      " 0   ID                                  16883 non-null  int64         \n",
      " 1   Region                              16883 non-null  category      \n",
      " 2   Territory                           16883 non-null  category      \n",
      " 3   Pricing, Delivery_Terms_Quote_Appr  16883 non-null  boolean       \n",
      " 4   Pricing, Delivery_Terms_Approved    16883 non-null  boolean       \n",
      " 5   Bureaucratic_Code_0_Approval        16883 non-null  boolean       \n",
      " 6   Bureaucratic_Code_0_Approved        16883 non-null  boolean       \n",
      " 7   Bureaucratic_Code                   16883 non-null  category      \n",
      " 8   Account_Created_Date                16883 non-null  datetime64[ns]\n",
      " 9   Source                              16883 non-null  category      \n",
      " 10  Billing_Country                     16883 non-null  category      \n",
      " 11  Account_Name                        16883 non-null  category      \n",
      " 12  Opportunity_Name                    16883 non-null  category      \n",
      " 13  Opportunity_ID                      16883 non-null  int64         \n",
      " 14  Sales_Contract_No                   9974 non-null   float64       \n",
      " 15  Account_Owner                       16883 non-null  category      \n",
      " 16  Opportunity_Owner                   16883 non-null  category      \n",
      " 17  Account_Type                        16883 non-null  category      \n",
      " 18  Opportunity_Type                    16883 non-null  category      \n",
      " 19  Delivery_Terms                      16883 non-null  category      \n",
      " 20  Opportunity_Created_Date            16883 non-null  datetime64[ns]\n",
      " 21  Brand                               16883 non-null  category      \n",
      " 22  Product_Type                        16883 non-null  category      \n",
      " 23  Size                                16883 non-null  object        \n",
      " 24  Product_Category_B                  16883 non-null  category      \n",
      " 25  Price                               16883 non-null  object        \n",
      " 26  Currency                            16883 non-null  category      \n",
      " 27  Quote_Expiry_Date                   12289 non-null  datetime64[ns]\n",
      " 28  Last_Modified_Date                  16883 non-null  datetime64[ns]\n",
      " 29  Last_Modified_By                    16883 non-null  category      \n",
      " 30  Product_Family                      16883 non-null  category      \n",
      " 31  Product_Name                        16883 non-null  category      \n",
      " 32  ASP_Currency                        16883 non-null  category      \n",
      " 33  ASP                                 13679 non-null  float32       \n",
      " 34  ASP_(converted)                     13679 non-null  float32       \n",
      " 35  Planned_Delivery_Start_Date         16883 non-null  datetime64[ns]\n",
      " 36  Planned_Delivery_End_Date           16808 non-null  datetime64[ns]\n",
      " 37  Month                               16883 non-null  object        \n",
      " 38  Delivery_Quarter                    16883 non-null  category      \n",
      " 39  Delivery_Year                       16883 non-null  category      \n",
      " 40  TRF                                 16883 non-null  int64         \n",
      " 41  Total_Amount_Currency               16883 non-null  category      \n",
      " 42  Total_Amount                        16824 non-null  float32       \n",
      " 43  Total_Taxable_Amount_Currency       16883 non-null  category      \n",
      " 44  Total_Taxable_Amount                16883 non-null  float32       \n",
      " 45  Stage                               16883 non-null  category      \n",
      "dtypes: boolean(4), category(25), datetime64[ns](6), float32(4), float64(1), int64(3), object(3)\n",
      "memory usage: 3.1+ MB\n"
     ]
    }
   ],
   "source": [
    "#Normalizo Booleanas\n",
    "df['Pricing, Delivery_Terms_Quote_Appr'] = df['Pricing, Delivery_Terms_Quote_Appr'].astype('boolean')\n",
    "df['Pricing, Delivery_Terms_Approved'] = df['Pricing, Delivery_Terms_Approved'].astype('boolean')\n",
    "df['Bureaucratic_Code_0_Approval'] = df['Bureaucratic_Code_0_Approval'].astype('boolean')\n",
    "df['Bureaucratic_Code_0_Approved'] = df['Bureaucratic_Code_0_Approved'].astype('boolean')\n",
    "\n",
    "df['Total_Amount_Currency'] = df['Total_Amount_Currency'].astype('category')\n",
    "df['Stage'] = df['Stage'].astype('category')\n",
    "df['Region'] = df['Region'].astype('category')\n",
    "\n",
    "df['Source '] = df['Source '].astype('category')\n",
    "df['Billing_Country'] = df['Billing_Country'].astype('category')\n",
    "df['Account_Name'] = df['Account_Name'].astype('category')\n",
    "df['Opportunity_Name'] = df['Opportunity_Name'].astype('category')\n",
    "df['Account_Owner'] = df['Account_Owner'].astype('category')\n",
    "df['Delivery_Terms'] = df['Delivery_Terms'].astype('category')\n",
    "df['Product_Family'] = df['Product_Family'].astype('category')\n",
    "df['Product_Name'] = df['Product_Name'].astype('category')\n",
    "df['Brand'] = df['Brand'].astype('category')\n",
    "\n",
    "df['Last_Modified_By'] = df['Last_Modified_By'].astype('category')\n",
    "df['Opportunity_Owner'] = df['Opportunity_Owner'].astype('category')\n",
    "df['Territory'] = df['Territory'].astype('category')\n",
    "\n",
    "df['Total_Taxable_Amount_Currency'] = df['Total_Taxable_Amount_Currency'].astype('category')\n",
    "df['Bureaucratic_Code'] = df['Bureaucratic_Code'].astype('category')\n",
    "df['Account_Type'] = df['Account_Type'].astype('category')\n",
    "df['Opportunity_Type'] = df['Opportunity_Type'].astype('category')\n",
    "df['Product_Type'] = df['Product_Type'].astype('category')\n",
    "df['Product_Category_B'] = df['Product_Category_B'].astype('category')\n",
    "df['Currency'] = df['Currency'].astype('category')\n",
    "df['ASP_Currency'] = df['ASP_Currency'].astype('category')\n",
    "df['Delivery_Quarter'] = df['Delivery_Quarter'].astype('category')\n",
    "df['Delivery_Year'] = df['Delivery_Year'].astype('category')\n",
    "\n",
    "#Normalizo Fechas\n",
    "df['Account_Created_Date'] = pd.to_datetime(df['Account_Created_Date'], format='%m/%d/%Y')\n",
    "df['Last_Modified_Date'] = pd.to_datetime(df['Last_Modified_Date'], format='%m/%d/%Y')\n",
    "df['Quote_Expiry_Date'] = pd.to_datetime(df['Quote_Expiry_Date'], format='%m/%d/%Y')\n",
    "df['Planned_Delivery_Start_Date'] = pd.to_datetime(df['Planned_Delivery_Start_Date'], format='%m/%d/%Y')\n",
    "df['Planned_Delivery_End_Date'] = pd.to_datetime(df['Planned_Delivery_End_Date'], format='%m/%d/%Y')\n",
    "df['Account_Created_Date'] = pd.to_datetime(df['Account_Created_Date'], format='%m/%d/%Y')\n",
    "df['Opportunity_Created_Date'] = pd.to_datetime(df['Opportunity_Created_Date'], format='%m/%d/%Y')\n",
    "#Normalizo Floats\n",
    "df['ASP'] = pd.to_numeric(df['ASP'],downcast='float',errors='coerce')\n",
    "df['ASP_(converted)'] = pd.to_numeric(df['ASP_(converted)'],downcast='float',errors='coerce')\n",
    "df['Total_Amount'] = pd.to_numeric(df['Total_Amount'],downcast='float',errors='coerce')\n",
    "df['Total_Taxable_Amount'] = pd.to_numeric(df['Total_Taxable_Amount'],downcast='float',errors='coerce')\n",
    "df['ASP'] = pd.to_numeric(df['ASP'],downcast='float',errors='coerce')\n",
    "\n",
    "df['Sales_Contract_No'] = pd.to_numeric(df['Sales_Contract_No'],downcast='integer',errors='coerce')\n",
    "df.info()"
   ]
  },
  {
   "cell_type": "code",
   "execution_count": 12,
   "metadata": {},
   "outputs": [
    {
     "data": {
      "text/plain": [
       "16808"
      ]
     },
     "execution_count": 12,
     "metadata": {},
     "output_type": "execute_result"
    }
   ],
   "source": [
    "df.loc[ 3, 'ID']"
   ]
  },
  {
   "cell_type": "code",
   "execution_count": 13,
   "metadata": {},
   "outputs": [
    {
     "data": {
      "text/plain": [
       "ID                int64\n",
       "Opportunity_ID    int64\n",
       "TRF               int64\n",
       "dtype: object"
      ]
     },
     "execution_count": 13,
     "metadata": {},
     "output_type": "execute_result"
    }
   ],
   "source": [
    "df.dtypes[df.dtypes == 'int64']"
   ]
  },
  {
   "cell_type": "code",
   "execution_count": 14,
   "metadata": {},
   "outputs": [
    {
     "data": {
      "text/plain": [
       "Sales_Contract_No    float64\n",
       "dtype: object"
      ]
     },
     "execution_count": 14,
     "metadata": {},
     "output_type": "execute_result"
    }
   ],
   "source": [
    "df.dtypes[df.dtypes == 'float64']"
   ]
  },
  {
   "cell_type": "code",
   "execution_count": 15,
   "metadata": {},
   "outputs": [
    {
     "data": {
      "text/plain": [
       "Size     object\n",
       "Price    object\n",
       "Month    object\n",
       "dtype: object"
      ]
     },
     "execution_count": 15,
     "metadata": {},
     "output_type": "execute_result"
    }
   ],
   "source": [
    "df.dtypes[df.dtypes == 'object']"
   ]
  },
  {
   "cell_type": "code",
   "execution_count": 16,
   "metadata": {},
   "outputs": [
    {
     "data": {
      "text/plain": [
       "Japan          4869\n",
       "EMEA           4660\n",
       "Americas       3933\n",
       "APAC           3251\n",
       "Middle East     170\n",
       "Name: Region, dtype: int64"
      ]
     },
     "execution_count": 16,
     "metadata": {},
     "output_type": "execute_result"
    }
   ],
   "source": [
    "df['Region'].value_counts()"
   ]
  },
  {
   "cell_type": "code",
   "execution_count": 17,
   "metadata": {},
   "outputs": [
    {
     "data": {
      "text/plain": [
       "None              4981\n",
       "Germany           1682\n",
       "NW America        1560\n",
       "Australia         1202\n",
       "India              807\n",
       "                  ... \n",
       "Czech Republic       1\n",
       "Egypt                1\n",
       "Monaco               1\n",
       "Georgia              1\n",
       "Saudi Arabia         1\n",
       "Name: Territory, Length: 75, dtype: int64"
      ]
     },
     "execution_count": 17,
     "metadata": {},
     "output_type": "execute_result"
    }
   ],
   "source": [
    "df['Territory'].value_counts()"
   ]
  },
  {
   "cell_type": "code",
   "execution_count": 18,
   "metadata": {},
   "outputs": [
    {
     "data": {
      "text/plain": [
       "True     13629\n",
       "False     3254\n",
       "Name: Pricing, Delivery_Terms_Quote_Appr, dtype: Int64"
      ]
     },
     "execution_count": 18,
     "metadata": {},
     "output_type": "execute_result"
    }
   ],
   "source": [
    "df['Pricing, Delivery_Terms_Quote_Appr'].value_counts()"
   ]
  },
  {
   "cell_type": "code",
   "execution_count": 19,
   "metadata": {},
   "outputs": [
    {
     "data": {
      "text/plain": [
       "True     9847\n",
       "False    7036\n",
       "Name: Pricing, Delivery_Terms_Approved, dtype: Int64"
      ]
     },
     "execution_count": 19,
     "metadata": {},
     "output_type": "execute_result"
    }
   ],
   "source": [
    "df['Pricing, Delivery_Terms_Approved'].value_counts()"
   ]
  },
  {
   "cell_type": "code",
   "execution_count": 20,
   "metadata": {},
   "outputs": [
    {
     "data": {
      "text/plain": [
       "False    8889\n",
       "True     7994\n",
       "Name: Bureaucratic_Code_0_Approval, dtype: Int64"
      ]
     },
     "execution_count": 20,
     "metadata": {},
     "output_type": "execute_result"
    }
   ],
   "source": [
    "df['Bureaucratic_Code_0_Approval'].value_counts()"
   ]
  },
  {
   "cell_type": "code",
   "execution_count": 21,
   "metadata": {},
   "outputs": [
    {
     "data": {
      "text/plain": [
       "False    11522\n",
       "True      5361\n",
       "Name: Bureaucratic_Code_0_Approved, dtype: Int64"
      ]
     },
     "execution_count": 21,
     "metadata": {},
     "output_type": "execute_result"
    }
   ],
   "source": [
    "df['Bureaucratic_Code_0_Approved'].value_counts()"
   ]
  },
  {
   "cell_type": "code",
   "execution_count": 23,
   "metadata": {},
   "outputs": [
    {
     "data": {
      "text/plain": [
       "Bureaucratic_Code_4    12544\n",
       "Bureaucratic_Code_5     3782\n",
       "Bureaucratic_Code_1      261\n",
       "Bureaucratic_Code_2      242\n",
       "Bureaucratic_Code_0       51\n",
       "Bureaucratic_Code_3        2\n",
       "Bureaucratic_Code_6        1\n",
       "Name: Bureaucratic_Code, dtype: int64"
      ]
     },
     "execution_count": 23,
     "metadata": {},
     "output_type": "execute_result"
    }
   ],
   "source": [
    "df['Bureaucratic_Code'].value_counts()"
   ]
  },
  {
   "cell_type": "code",
   "execution_count": 24,
   "metadata": {},
   "outputs": [
    {
     "data": {
      "text/plain": [
       "2015-04-20    3009\n",
       "2013-07-27    2640\n",
       "2013-09-23     587\n",
       "2014-09-19     397\n",
       "2015-12-21     354\n",
       "              ... \n",
       "2017-10-15       1\n",
       "2016-11-20       1\n",
       "2017-09-19       1\n",
       "2016-08-15       1\n",
       "2016-11-22       1\n",
       "Name: Account_Created_Date, Length: 800, dtype: int64"
      ]
     },
     "execution_count": 24,
     "metadata": {},
     "output_type": "execute_result"
    }
   ],
   "source": [
    "df['Account_Created_Date'].value_counts()"
   ]
  },
  {
   "cell_type": "code",
   "execution_count": 25,
   "metadata": {},
   "outputs": [
    {
     "ename": "KeyError",
     "evalue": "'Source'",
     "output_type": "error",
     "traceback": [
      "\u001b[0;31m---------------------------------------------------------------------------\u001b[0m",
      "\u001b[0;31mKeyError\u001b[0m                                  Traceback (most recent call last)",
      "\u001b[0;32m~/anaconda3/lib/python3.8/site-packages/pandas/core/indexes/base.py\u001b[0m in \u001b[0;36mget_loc\u001b[0;34m(self, key, method, tolerance)\u001b[0m\n\u001b[1;32m   2645\u001b[0m             \u001b[0;32mtry\u001b[0m\u001b[0;34m:\u001b[0m\u001b[0;34m\u001b[0m\u001b[0;34m\u001b[0m\u001b[0m\n\u001b[0;32m-> 2646\u001b[0;31m                 \u001b[0;32mreturn\u001b[0m \u001b[0mself\u001b[0m\u001b[0;34m.\u001b[0m\u001b[0m_engine\u001b[0m\u001b[0;34m.\u001b[0m\u001b[0mget_loc\u001b[0m\u001b[0;34m(\u001b[0m\u001b[0mkey\u001b[0m\u001b[0;34m)\u001b[0m\u001b[0;34m\u001b[0m\u001b[0;34m\u001b[0m\u001b[0m\n\u001b[0m\u001b[1;32m   2647\u001b[0m             \u001b[0;32mexcept\u001b[0m \u001b[0mKeyError\u001b[0m\u001b[0;34m:\u001b[0m\u001b[0;34m\u001b[0m\u001b[0;34m\u001b[0m\u001b[0m\n",
      "\u001b[0;32mpandas/_libs/index.pyx\u001b[0m in \u001b[0;36mpandas._libs.index.IndexEngine.get_loc\u001b[0;34m()\u001b[0m\n",
      "\u001b[0;32mpandas/_libs/index.pyx\u001b[0m in \u001b[0;36mpandas._libs.index.IndexEngine.get_loc\u001b[0;34m()\u001b[0m\n",
      "\u001b[0;32mpandas/_libs/hashtable_class_helper.pxi\u001b[0m in \u001b[0;36mpandas._libs.hashtable.PyObjectHashTable.get_item\u001b[0;34m()\u001b[0m\n",
      "\u001b[0;32mpandas/_libs/hashtable_class_helper.pxi\u001b[0m in \u001b[0;36mpandas._libs.hashtable.PyObjectHashTable.get_item\u001b[0;34m()\u001b[0m\n",
      "\u001b[0;31mKeyError\u001b[0m: 'Source'",
      "\nDuring handling of the above exception, another exception occurred:\n",
      "\u001b[0;31mKeyError\u001b[0m                                  Traceback (most recent call last)",
      "\u001b[0;32m<ipython-input-25-8e599dd7eb48>\u001b[0m in \u001b[0;36m<module>\u001b[0;34m\u001b[0m\n\u001b[0;32m----> 1\u001b[0;31m \u001b[0mdf\u001b[0m\u001b[0;34m[\u001b[0m\u001b[0;34m'Source'\u001b[0m\u001b[0;34m]\u001b[0m\u001b[0;34m.\u001b[0m\u001b[0mvalue_counts\u001b[0m\u001b[0;34m(\u001b[0m\u001b[0;34m)\u001b[0m\u001b[0;34m\u001b[0m\u001b[0;34m\u001b[0m\u001b[0m\n\u001b[0m",
      "\u001b[0;32m~/anaconda3/lib/python3.8/site-packages/pandas/core/frame.py\u001b[0m in \u001b[0;36m__getitem__\u001b[0;34m(self, key)\u001b[0m\n\u001b[1;32m   2798\u001b[0m             \u001b[0;32mif\u001b[0m \u001b[0mself\u001b[0m\u001b[0;34m.\u001b[0m\u001b[0mcolumns\u001b[0m\u001b[0;34m.\u001b[0m\u001b[0mnlevels\u001b[0m \u001b[0;34m>\u001b[0m \u001b[0;36m1\u001b[0m\u001b[0;34m:\u001b[0m\u001b[0;34m\u001b[0m\u001b[0;34m\u001b[0m\u001b[0m\n\u001b[1;32m   2799\u001b[0m                 \u001b[0;32mreturn\u001b[0m \u001b[0mself\u001b[0m\u001b[0;34m.\u001b[0m\u001b[0m_getitem_multilevel\u001b[0m\u001b[0;34m(\u001b[0m\u001b[0mkey\u001b[0m\u001b[0;34m)\u001b[0m\u001b[0;34m\u001b[0m\u001b[0;34m\u001b[0m\u001b[0m\n\u001b[0;32m-> 2800\u001b[0;31m             \u001b[0mindexer\u001b[0m \u001b[0;34m=\u001b[0m \u001b[0mself\u001b[0m\u001b[0;34m.\u001b[0m\u001b[0mcolumns\u001b[0m\u001b[0;34m.\u001b[0m\u001b[0mget_loc\u001b[0m\u001b[0;34m(\u001b[0m\u001b[0mkey\u001b[0m\u001b[0;34m)\u001b[0m\u001b[0;34m\u001b[0m\u001b[0;34m\u001b[0m\u001b[0m\n\u001b[0m\u001b[1;32m   2801\u001b[0m             \u001b[0;32mif\u001b[0m \u001b[0mis_integer\u001b[0m\u001b[0;34m(\u001b[0m\u001b[0mindexer\u001b[0m\u001b[0;34m)\u001b[0m\u001b[0;34m:\u001b[0m\u001b[0;34m\u001b[0m\u001b[0;34m\u001b[0m\u001b[0m\n\u001b[1;32m   2802\u001b[0m                 \u001b[0mindexer\u001b[0m \u001b[0;34m=\u001b[0m \u001b[0;34m[\u001b[0m\u001b[0mindexer\u001b[0m\u001b[0;34m]\u001b[0m\u001b[0;34m\u001b[0m\u001b[0;34m\u001b[0m\u001b[0m\n",
      "\u001b[0;32m~/anaconda3/lib/python3.8/site-packages/pandas/core/indexes/base.py\u001b[0m in \u001b[0;36mget_loc\u001b[0;34m(self, key, method, tolerance)\u001b[0m\n\u001b[1;32m   2646\u001b[0m                 \u001b[0;32mreturn\u001b[0m \u001b[0mself\u001b[0m\u001b[0;34m.\u001b[0m\u001b[0m_engine\u001b[0m\u001b[0;34m.\u001b[0m\u001b[0mget_loc\u001b[0m\u001b[0;34m(\u001b[0m\u001b[0mkey\u001b[0m\u001b[0;34m)\u001b[0m\u001b[0;34m\u001b[0m\u001b[0;34m\u001b[0m\u001b[0m\n\u001b[1;32m   2647\u001b[0m             \u001b[0;32mexcept\u001b[0m \u001b[0mKeyError\u001b[0m\u001b[0;34m:\u001b[0m\u001b[0;34m\u001b[0m\u001b[0;34m\u001b[0m\u001b[0m\n\u001b[0;32m-> 2648\u001b[0;31m                 \u001b[0;32mreturn\u001b[0m \u001b[0mself\u001b[0m\u001b[0;34m.\u001b[0m\u001b[0m_engine\u001b[0m\u001b[0;34m.\u001b[0m\u001b[0mget_loc\u001b[0m\u001b[0;34m(\u001b[0m\u001b[0mself\u001b[0m\u001b[0;34m.\u001b[0m\u001b[0m_maybe_cast_indexer\u001b[0m\u001b[0;34m(\u001b[0m\u001b[0mkey\u001b[0m\u001b[0;34m)\u001b[0m\u001b[0;34m)\u001b[0m\u001b[0;34m\u001b[0m\u001b[0;34m\u001b[0m\u001b[0m\n\u001b[0m\u001b[1;32m   2649\u001b[0m         \u001b[0mindexer\u001b[0m \u001b[0;34m=\u001b[0m \u001b[0mself\u001b[0m\u001b[0;34m.\u001b[0m\u001b[0mget_indexer\u001b[0m\u001b[0;34m(\u001b[0m\u001b[0;34m[\u001b[0m\u001b[0mkey\u001b[0m\u001b[0;34m]\u001b[0m\u001b[0;34m,\u001b[0m \u001b[0mmethod\u001b[0m\u001b[0;34m=\u001b[0m\u001b[0mmethod\u001b[0m\u001b[0;34m,\u001b[0m \u001b[0mtolerance\u001b[0m\u001b[0;34m=\u001b[0m\u001b[0mtolerance\u001b[0m\u001b[0;34m)\u001b[0m\u001b[0;34m\u001b[0m\u001b[0;34m\u001b[0m\u001b[0m\n\u001b[1;32m   2650\u001b[0m         \u001b[0;32mif\u001b[0m \u001b[0mindexer\u001b[0m\u001b[0;34m.\u001b[0m\u001b[0mndim\u001b[0m \u001b[0;34m>\u001b[0m \u001b[0;36m1\u001b[0m \u001b[0;32mor\u001b[0m \u001b[0mindexer\u001b[0m\u001b[0;34m.\u001b[0m\u001b[0msize\u001b[0m \u001b[0;34m>\u001b[0m \u001b[0;36m1\u001b[0m\u001b[0;34m:\u001b[0m\u001b[0;34m\u001b[0m\u001b[0;34m\u001b[0m\u001b[0m\n",
      "\u001b[0;32mpandas/_libs/index.pyx\u001b[0m in \u001b[0;36mpandas._libs.index.IndexEngine.get_loc\u001b[0;34m()\u001b[0m\n",
      "\u001b[0;32mpandas/_libs/index.pyx\u001b[0m in \u001b[0;36mpandas._libs.index.IndexEngine.get_loc\u001b[0;34m()\u001b[0m\n",
      "\u001b[0;32mpandas/_libs/hashtable_class_helper.pxi\u001b[0m in \u001b[0;36mpandas._libs.hashtable.PyObjectHashTable.get_item\u001b[0;34m()\u001b[0m\n",
      "\u001b[0;32mpandas/_libs/hashtable_class_helper.pxi\u001b[0m in \u001b[0;36mpandas._libs.hashtable.PyObjectHashTable.get_item\u001b[0;34m()\u001b[0m\n",
      "\u001b[0;31mKeyError\u001b[0m: 'Source'"
     ]
    }
   ],
   "source": [
    "df['Source'].value_counts()"
   ]
  },
  {
   "cell_type": "code",
   "execution_count": 1,
   "metadata": {},
   "outputs": [
    {
     "ename": "NameError",
     "evalue": "name 'df' is not defined",
     "output_type": "error",
     "traceback": [
      "\u001b[0;31m---------------------------------------------------------------------------\u001b[0m",
      "\u001b[0;31mNameError\u001b[0m                                 Traceback (most recent call last)",
      "\u001b[0;32m<ipython-input-1-5f1361c53975>\u001b[0m in \u001b[0;36m<module>\u001b[0;34m\u001b[0m\n\u001b[0;32m----> 1\u001b[0;31m \u001b[0mdf\u001b[0m\u001b[0;34m[\u001b[0m\u001b[0;34m'Billing_Country'\u001b[0m\u001b[0;34m]\u001b[0m\u001b[0;34m.\u001b[0m\u001b[0mvalue_counts\u001b[0m\u001b[0;34m(\u001b[0m\u001b[0;34m)\u001b[0m\u001b[0;34m\u001b[0m\u001b[0;34m\u001b[0m\u001b[0m\n\u001b[0m",
      "\u001b[0;31mNameError\u001b[0m: name 'df' is not defined"
     ]
    }
   ],
   "source": [
    "df['Billing_Country'].value_counts()"
   ]
  },
  {
   "cell_type": "code",
   "execution_count": null,
   "metadata": {},
   "outputs": [],
   "source": [
    "df['Account_Name'].value_counts()"
   ]
  },
  {
   "cell_type": "code",
   "execution_count": null,
   "metadata": {},
   "outputs": [],
   "source": [
    "df['Opportunity_Name'].value_counts()"
   ]
  },
  {
   "cell_type": "code",
   "execution_count": null,
   "metadata": {},
   "outputs": [],
   "source": [
    "df['Opportunity_ID'].value_counts()"
   ]
  },
  {
   "cell_type": "code",
   "execution_count": null,
   "metadata": {},
   "outputs": [],
   "source": [
    "df['Sales_Contract_No'].value_counts()"
   ]
  },
  {
   "cell_type": "code",
   "execution_count": null,
   "metadata": {},
   "outputs": [],
   "source": [
    "df['Account_Owner'].value_counts()"
   ]
  },
  {
   "cell_type": "code",
   "execution_count": null,
   "metadata": {},
   "outputs": [],
   "source": [
    "df['Opportunity_Owner'].value_counts()"
   ]
  },
  {
   "cell_type": "code",
   "execution_count": null,
   "metadata": {},
   "outputs": [],
   "source": [
    "df['Account_Type'].value_counts()"
   ]
  },
  {
   "cell_type": "code",
   "execution_count": null,
   "metadata": {},
   "outputs": [],
   "source": [
    "df['Opportunity_Type'].value_counts()"
   ]
  },
  {
   "cell_type": "code",
   "execution_count": null,
   "metadata": {},
   "outputs": [],
   "source": [
    "df['Quote_Type'].value_counts()"
   ]
  },
  {
   "cell_type": "code",
   "execution_count": null,
   "metadata": {},
   "outputs": [],
   "source": [
    "df['Delivery_Terms'].value_counts()"
   ]
  },
  {
   "cell_type": "code",
   "execution_count": null,
   "metadata": {},
   "outputs": [],
   "source": [
    "df['Opportunity_Created_Date'].value_counts()"
   ]
  },
  {
   "cell_type": "code",
   "execution_count": null,
   "metadata": {},
   "outputs": [],
   "source": [
    "df['Brand'].value_counts()"
   ]
  },
  {
   "cell_type": "code",
   "execution_count": null,
   "metadata": {},
   "outputs": [],
   "source": [
    "df['Product_Type'].value_counts()"
   ]
  },
  {
   "cell_type": "code",
   "execution_count": null,
   "metadata": {},
   "outputs": [],
   "source": [
    "df['Size'].value_counts()"
   ]
  },
  {
   "cell_type": "code",
   "execution_count": null,
   "metadata": {},
   "outputs": [],
   "source": [
    "df['Product_Category_B'].value_counts()"
   ]
  },
  {
   "cell_type": "code",
   "execution_count": null,
   "metadata": {},
   "outputs": [],
   "source": [
    "df['Price'].value_counts()"
   ]
  },
  {
   "cell_type": "code",
   "execution_count": null,
   "metadata": {},
   "outputs": [],
   "source": [
    "df['Currency'].value_counts()"
   ]
  },
  {
   "cell_type": "code",
   "execution_count": null,
   "metadata": {},
   "outputs": [],
   "source": [
    "df['Last_Activity'].value_counts()"
   ]
  },
  {
   "cell_type": "code",
   "execution_count": null,
   "metadata": {},
   "outputs": [],
   "source": [
    "df['Quote_Expiry_Date'].value_counts()"
   ]
  },
  {
   "cell_type": "code",
   "execution_count": null,
   "metadata": {},
   "outputs": [],
   "source": [
    "25  Size                                16947 non-null  object \n",
    " 26  Product_Category_B                  16947 non-null  object \n",
    " 27  Price                               16947 non-null  object \n",
    " 28  Currency                            16947 non-null  object \n",
    " 29  Last_Activity                       16947 non-null  object \n",
    " 30  Quote_Expiry_Date                   16947 non-null  object \n",
    " 31  Last_Modified_Date                  16947 non-null  object \n",
    " 32  Last_Modified_By                    16947 non-null  object \n",
    " 33  Product_Family                      16947 non-null  object \n",
    " 34  Product_Name                        16947 non-null  object \n",
    " 35  ASP_Currency                        16947 non-null  object \n",
    " 36  ASP                                 13738 non-null  float64\n",
    " 37  ASP_(converted)_Currency            16947 non-null  object \n",
    " 38  ASP_(converted)                     13738 non-null  float64\n",
    " 39  Planned_Delivery_Start_Date         16947 non-null  object \n",
    " 40  Planned_Delivery_End_Date           16947 non-null  object \n",
    " 41  Month                               16947 non-null  object \n",
    " 42  Delivery_Quarter                    16947 non-null  object \n",
    " 43  Delivery_Year                       16947 non-null  int64  \n",
    " 44  Actual_Delivery_Date                16947 non-null  object \n",
    " 45  TRF                                 16947 non-null  int64  \n",
    " 46  Total_Amount_Currency               16947 non-null  object \n",
    " 47  Total_Amount                        16888 non-null  float64\n",
    " 48  Total_Taxable_Amount_Currency       16947 non-null  object \n",
    " 49  Total_Taxable_Amount                16947 non-null  float64\n",
    " 50  Stage                               16947 non-null  object \n",
    " 51  Prod_Category_A "
   ]
  },
  {
   "cell_type": "code",
   "execution_count": 42,
   "metadata": {},
   "outputs": [
    {
     "data": {
      "text/plain": [
       "Closed Won       9533\n",
       "Closed Lost      7350\n",
       "Proposal           35\n",
       "Negotiation        18\n",
       "Qualification      11\n",
       "Name: Stage, dtype: int64"
      ]
     },
     "execution_count": 42,
     "metadata": {},
     "output_type": "execute_result"
    }
   ],
   "source": [
    "df['Stage'].value_counts()"
   ]
  },
  {
   "cell_type": "code",
   "execution_count": 28,
   "metadata": {},
   "outputs": [
    {
     "data": {
      "text/plain": [
       "(9533, 52)"
      ]
     },
     "execution_count": 28,
     "metadata": {},
     "output_type": "execute_result"
    }
   ],
   "source": [
    "df_closed_won = df[df['Stage'] == 'Closed Won']\n",
    "df_closed_won.shape"
   ]
  },
  {
   "cell_type": "code",
   "execution_count": 32,
   "metadata": {},
   "outputs": [
    {
     "data": {
      "text/plain": [
       "Region\n",
       "APAC           1896\n",
       "Americas       1793\n",
       "EMEA           2471\n",
       "Japan          3323\n",
       "Middle East      50\n",
       "dtype: int64"
      ]
     },
     "execution_count": 32,
     "metadata": {},
     "output_type": "execute_result"
    }
   ],
   "source": [
    "df_closed_won.groupby(['Region']).size()"
   ]
  },
  {
   "cell_type": "code",
   "execution_count": 33,
   "metadata": {},
   "outputs": [
    {
     "data": {
      "text/plain": [
       "(7350, 52)"
      ]
     },
     "execution_count": 33,
     "metadata": {},
     "output_type": "execute_result"
    }
   ],
   "source": [
    "df_closed_lost = df[df['Stage'] == 'Closed Lost']\n",
    "df_closed_lost.shape"
   ]
  },
  {
   "cell_type": "code",
   "execution_count": 45,
   "metadata": {},
   "outputs": [
    {
     "data": {
      "text/plain": [
       "Region\n",
       "APAC           1355\n",
       "Americas       2140\n",
       "EMEA           2189\n",
       "Japan          1546\n",
       "Middle East     120\n",
       "dtype: int64"
      ]
     },
     "execution_count": 45,
     "metadata": {},
     "output_type": "execute_result"
    }
   ],
   "source": [
    "df_closed_lost.groupby(['Region']).size()"
   ]
  },
  {
   "cell_type": "code",
   "execution_count": null,
   "metadata": {},
   "outputs": [],
   "source": [
    "df_closed_lost['Region'] = "
   ]
  },
  {
   "cell_type": "code",
   "execution_count": 74,
   "metadata": {},
   "outputs": [
    {
     "data": {
      "text/html": [
       "<div>\n",
       "<style scoped>\n",
       "    .dataframe tbody tr th:only-of-type {\n",
       "        vertical-align: middle;\n",
       "    }\n",
       "\n",
       "    .dataframe tbody tr th {\n",
       "        vertical-align: top;\n",
       "    }\n",
       "\n",
       "    .dataframe thead th {\n",
       "        text-align: right;\n",
       "    }\n",
       "</style>\n",
       "<table border=\"1\" class=\"dataframe\">\n",
       "  <thead>\n",
       "    <tr style=\"text-align: right;\">\n",
       "      <th></th>\n",
       "      <th>casos perdidos</th>\n",
       "      <th>casos ganados</th>\n",
       "    </tr>\n",
       "    <tr>\n",
       "      <th>Region</th>\n",
       "      <th></th>\n",
       "      <th></th>\n",
       "    </tr>\n",
       "  </thead>\n",
       "  <tbody>\n",
       "    <tr>\n",
       "      <th>APAC</th>\n",
       "      <td>1355</td>\n",
       "      <td>1896</td>\n",
       "    </tr>\n",
       "    <tr>\n",
       "      <th>Americas</th>\n",
       "      <td>2140</td>\n",
       "      <td>1793</td>\n",
       "    </tr>\n",
       "    <tr>\n",
       "      <th>EMEA</th>\n",
       "      <td>2189</td>\n",
       "      <td>2471</td>\n",
       "    </tr>\n",
       "    <tr>\n",
       "      <th>Japan</th>\n",
       "      <td>1546</td>\n",
       "      <td>3323</td>\n",
       "    </tr>\n",
       "    <tr>\n",
       "      <th>Middle East</th>\n",
       "      <td>120</td>\n",
       "      <td>50</td>\n",
       "    </tr>\n",
       "  </tbody>\n",
       "</table>\n",
       "</div>"
      ],
      "text/plain": [
       "             casos perdidos  casos ganados\n",
       "Region                                    \n",
       "APAC                   1355           1896\n",
       "Americas               2140           1793\n",
       "EMEA                   2189           2471\n",
       "Japan                  1546           3323\n",
       "Middle East             120             50"
      ]
     },
     "execution_count": 74,
     "metadata": {},
     "output_type": "execute_result"
    }
   ],
   "source": [
    "df_region_ganados_y_perdidos = pd.concat([df_closed_lost.groupby(['Region']).size(),df_closed_won.groupby(['Region']).size()], axis = 1)\n",
    "col_rename = {0:'casos perdidos', 1: 'casos ganados'}\n",
    "df_region_ganados_y_perdidos = df_region_ganados_y_perdidos.rename( columns = col_rename)\n",
    "df_region_ganados_y_perdidos"
   ]
  },
  {
   "cell_type": "code",
   "execution_count": 75,
   "metadata": {},
   "outputs": [
    {
     "data": {
      "text/plain": [
       "<matplotlib.axes._subplots.AxesSubplot at 0x7fdc9a095450>"
      ]
     },
     "execution_count": 75,
     "metadata": {},
     "output_type": "execute_result"
    },
    {
     "data": {
      "image/png": "[encoded data removed]",
      "text/plain": [
       "<Figure size 2000x1000 with 1 Axes>"
      ]
     },
     "metadata": {},
     "output_type": "display_data"
    }
   ],
   "source": [
    "df_region_ganados_y_perdidos.plot(kind = 'bar')"
   ]
  },
  {
   "cell_type": "code",
   "execution_count": 79,
   "metadata": {},
   "outputs": [
    {
     "data": {
      "text/html": [
       "<div>\n",
       "<style scoped>\n",
       "    .dataframe tbody tr th:only-of-type {\n",
       "        vertical-align: middle;\n",
       "    }\n",
       "\n",
       "    .dataframe tbody tr th {\n",
       "        vertical-align: top;\n",
       "    }\n",
       "\n",
       "    .dataframe thead th {\n",
       "        text-align: right;\n",
       "    }\n",
       "</style>\n",
       "<table border=\"1\" class=\"dataframe\">\n",
       "  <thead>\n",
       "    <tr style=\"text-align: right;\">\n",
       "      <th></th>\n",
       "      <th>ID</th>\n",
       "      <th>Region</th>\n",
       "      <th>Territory</th>\n",
       "      <th>Pricing, Delivery_Terms_Quote_Appr</th>\n",
       "      <th>Pricing, Delivery_Terms_Approved</th>\n",
       "      <th>Bureaucratic_Code_0_Approval</th>\n",
       "      <th>Bureaucratic_Code_0_Approved</th>\n",
       "      <th>Submitted_for_Approval</th>\n",
       "      <th>Bureaucratic_Code</th>\n",
       "      <th>Account_Created_Date</th>\n",
       "      <th>...</th>\n",
       "      <th>Delivery_Quarter</th>\n",
       "      <th>Delivery_Year</th>\n",
       "      <th>Actual_Delivery_Date</th>\n",
       "      <th>TRF</th>\n",
       "      <th>Total_Amount_Currency</th>\n",
       "      <th>Total_Amount</th>\n",
       "      <th>Total_Taxable_Amount_Currency</th>\n",
       "      <th>Total_Taxable_Amount</th>\n",
       "      <th>Stage</th>\n",
       "      <th>Prod_Category_A</th>\n",
       "    </tr>\n",
       "  </thead>\n",
       "  <tbody>\n",
       "    <tr>\n",
       "      <th>0</th>\n",
       "      <td>27761</td>\n",
       "      <td>EMEA</td>\n",
       "      <td>None</td>\n",
       "      <td>1</td>\n",
       "      <td>1</td>\n",
       "      <td>1</td>\n",
       "      <td>1</td>\n",
       "      <td>0</td>\n",
       "      <td>Bureaucratic_Code_4</td>\n",
       "      <td>6/16/2015</td>\n",
       "      <td>...</td>\n",
       "      <td>Q2</td>\n",
       "      <td>2016</td>\n",
       "      <td>NaT</td>\n",
       "      <td>10</td>\n",
       "      <td>EUR</td>\n",
       "      <td>5272800.00</td>\n",
       "      <td>EUR</td>\n",
       "      <td>5272800.0</td>\n",
       "      <td>Closed Lost</td>\n",
       "      <td>Prod_Category_A_None</td>\n",
       "    </tr>\n",
       "    <tr>\n",
       "      <th>3</th>\n",
       "      <td>16808</td>\n",
       "      <td>Americas</td>\n",
       "      <td>NW America</td>\n",
       "      <td>1</td>\n",
       "      <td>0</td>\n",
       "      <td>1</td>\n",
       "      <td>0</td>\n",
       "      <td>0</td>\n",
       "      <td>Bureaucratic_Code_5</td>\n",
       "      <td>7/27/2013</td>\n",
       "      <td>...</td>\n",
       "      <td>Q1</td>\n",
       "      <td>2018</td>\n",
       "      <td>NaT</td>\n",
       "      <td>14</td>\n",
       "      <td>USD</td>\n",
       "      <td>7421881.50</td>\n",
       "      <td>USD</td>\n",
       "      <td>7421881.5</td>\n",
       "      <td>Closed Lost</td>\n",
       "      <td>Prod_Category_A_None</td>\n",
       "    </tr>\n",
       "    <tr>\n",
       "      <th>4</th>\n",
       "      <td>16805</td>\n",
       "      <td>Americas</td>\n",
       "      <td>NW America</td>\n",
       "      <td>1</td>\n",
       "      <td>0</td>\n",
       "      <td>1</td>\n",
       "      <td>0</td>\n",
       "      <td>0</td>\n",
       "      <td>Bureaucratic_Code_5</td>\n",
       "      <td>7/27/2013</td>\n",
       "      <td>...</td>\n",
       "      <td>Q1</td>\n",
       "      <td>2018</td>\n",
       "      <td>NaT</td>\n",
       "      <td>25</td>\n",
       "      <td>USD</td>\n",
       "      <td>13357192.50</td>\n",
       "      <td>USD</td>\n",
       "      <td>13357192.5</td>\n",
       "      <td>Closed Lost</td>\n",
       "      <td>Prod_Category_A_None</td>\n",
       "    </tr>\n",
       "    <tr>\n",
       "      <th>5</th>\n",
       "      <td>16802</td>\n",
       "      <td>Americas</td>\n",
       "      <td>NW America</td>\n",
       "      <td>1</td>\n",
       "      <td>0</td>\n",
       "      <td>1</td>\n",
       "      <td>0</td>\n",
       "      <td>0</td>\n",
       "      <td>Bureaucratic_Code_5</td>\n",
       "      <td>7/27/2013</td>\n",
       "      <td>...</td>\n",
       "      <td>Q1</td>\n",
       "      <td>2018</td>\n",
       "      <td>NaT</td>\n",
       "      <td>28</td>\n",
       "      <td>USD</td>\n",
       "      <td>14838277.50</td>\n",
       "      <td>USD</td>\n",
       "      <td>14838277.5</td>\n",
       "      <td>Closed Lost</td>\n",
       "      <td>Prod_Category_A_None</td>\n",
       "    </tr>\n",
       "    <tr>\n",
       "      <th>6</th>\n",
       "      <td>16799</td>\n",
       "      <td>Americas</td>\n",
       "      <td>NW America</td>\n",
       "      <td>1</td>\n",
       "      <td>0</td>\n",
       "      <td>1</td>\n",
       "      <td>0</td>\n",
       "      <td>0</td>\n",
       "      <td>Bureaucratic_Code_5</td>\n",
       "      <td>7/27/2013</td>\n",
       "      <td>...</td>\n",
       "      <td>Q1</td>\n",
       "      <td>2017</td>\n",
       "      <td>NaT</td>\n",
       "      <td>7</td>\n",
       "      <td>USD</td>\n",
       "      <td>2659494.60</td>\n",
       "      <td>USD</td>\n",
       "      <td>2659494.6</td>\n",
       "      <td>Closed Lost</td>\n",
       "      <td>Prod_Category_A_None</td>\n",
       "    </tr>\n",
       "    <tr>\n",
       "      <th>...</th>\n",
       "      <td>...</td>\n",
       "      <td>...</td>\n",
       "      <td>...</td>\n",
       "      <td>...</td>\n",
       "      <td>...</td>\n",
       "      <td>...</td>\n",
       "      <td>...</td>\n",
       "      <td>...</td>\n",
       "      <td>...</td>\n",
       "      <td>...</td>\n",
       "      <td>...</td>\n",
       "      <td>...</td>\n",
       "      <td>...</td>\n",
       "      <td>...</td>\n",
       "      <td>...</td>\n",
       "      <td>...</td>\n",
       "      <td>...</td>\n",
       "      <td>...</td>\n",
       "      <td>...</td>\n",
       "      <td>...</td>\n",
       "      <td>...</td>\n",
       "    </tr>\n",
       "    <tr>\n",
       "      <th>16938</th>\n",
       "      <td>28767</td>\n",
       "      <td>EMEA</td>\n",
       "      <td>Germany</td>\n",
       "      <td>1</td>\n",
       "      <td>0</td>\n",
       "      <td>0</td>\n",
       "      <td>0</td>\n",
       "      <td>0</td>\n",
       "      <td>Bureaucratic_Code_5</td>\n",
       "      <td>12/4/2015</td>\n",
       "      <td>...</td>\n",
       "      <td>Q3</td>\n",
       "      <td>2016</td>\n",
       "      <td>NaT</td>\n",
       "      <td>3</td>\n",
       "      <td>EUR</td>\n",
       "      <td>1307775.00</td>\n",
       "      <td>EUR</td>\n",
       "      <td>1307775.0</td>\n",
       "      <td>Closed Lost</td>\n",
       "      <td>Prod_Category_A_None</td>\n",
       "    </tr>\n",
       "    <tr>\n",
       "      <th>16940</th>\n",
       "      <td>20827</td>\n",
       "      <td>Americas</td>\n",
       "      <td>NE America</td>\n",
       "      <td>1</td>\n",
       "      <td>0</td>\n",
       "      <td>0</td>\n",
       "      <td>0</td>\n",
       "      <td>0</td>\n",
       "      <td>Bureaucratic_Code_5</td>\n",
       "      <td>6/16/2014</td>\n",
       "      <td>...</td>\n",
       "      <td>Q4</td>\n",
       "      <td>2016</td>\n",
       "      <td>NaT</td>\n",
       "      <td>20</td>\n",
       "      <td>USD</td>\n",
       "      <td>10751580.00</td>\n",
       "      <td>USD</td>\n",
       "      <td>21332500.0</td>\n",
       "      <td>Closed Lost</td>\n",
       "      <td>Prod_Category_A_None</td>\n",
       "    </tr>\n",
       "    <tr>\n",
       "      <th>16941</th>\n",
       "      <td>20830</td>\n",
       "      <td>Americas</td>\n",
       "      <td>NE America</td>\n",
       "      <td>1</td>\n",
       "      <td>0</td>\n",
       "      <td>0</td>\n",
       "      <td>0</td>\n",
       "      <td>0</td>\n",
       "      <td>Bureaucratic_Code_5</td>\n",
       "      <td>6/16/2014</td>\n",
       "      <td>...</td>\n",
       "      <td>Q4</td>\n",
       "      <td>2016</td>\n",
       "      <td>NaT</td>\n",
       "      <td>20</td>\n",
       "      <td>USD</td>\n",
       "      <td>10580920.00</td>\n",
       "      <td>USD</td>\n",
       "      <td>21332500.0</td>\n",
       "      <td>Closed Lost</td>\n",
       "      <td>Prod_Category_A_None</td>\n",
       "    </tr>\n",
       "    <tr>\n",
       "      <th>16945</th>\n",
       "      <td>28561</td>\n",
       "      <td>Americas</td>\n",
       "      <td>NE America</td>\n",
       "      <td>1</td>\n",
       "      <td>1</td>\n",
       "      <td>1</td>\n",
       "      <td>1</td>\n",
       "      <td>0</td>\n",
       "      <td>Bureaucratic_Code_4</td>\n",
       "      <td>10/20/2015</td>\n",
       "      <td>...</td>\n",
       "      <td>Q2</td>\n",
       "      <td>2016</td>\n",
       "      <td>NaT</td>\n",
       "      <td>4</td>\n",
       "      <td>USD</td>\n",
       "      <td>2346796.88</td>\n",
       "      <td>USD</td>\n",
       "      <td>0.0</td>\n",
       "      <td>Closed Lost</td>\n",
       "      <td>Prod_Category_A_None</td>\n",
       "    </tr>\n",
       "    <tr>\n",
       "      <th>16946</th>\n",
       "      <td>28318</td>\n",
       "      <td>Americas</td>\n",
       "      <td>NE America</td>\n",
       "      <td>1</td>\n",
       "      <td>1</td>\n",
       "      <td>1</td>\n",
       "      <td>1</td>\n",
       "      <td>0</td>\n",
       "      <td>Bureaucratic_Code_4</td>\n",
       "      <td>9/3/2015</td>\n",
       "      <td>...</td>\n",
       "      <td>Q3</td>\n",
       "      <td>2016</td>\n",
       "      <td>NaT</td>\n",
       "      <td>40</td>\n",
       "      <td>USD</td>\n",
       "      <td>25603200.00</td>\n",
       "      <td>USD</td>\n",
       "      <td>0.0</td>\n",
       "      <td>Closed Lost</td>\n",
       "      <td>Prod_Category_A_None</td>\n",
       "    </tr>\n",
       "  </tbody>\n",
       "</table>\n",
       "<p>7350 rows × 52 columns</p>\n",
       "</div>"
      ],
      "text/plain": [
       "          ID    Region   Territory  Pricing, Delivery_Terms_Quote_Appr  \\\n",
       "0      27761      EMEA        None                                   1   \n",
       "3      16808  Americas  NW America                                   1   \n",
       "4      16805  Americas  NW America                                   1   \n",
       "5      16802  Americas  NW America                                   1   \n",
       "6      16799  Americas  NW America                                   1   \n",
       "...      ...       ...         ...                                 ...   \n",
       "16938  28767      EMEA     Germany                                   1   \n",
       "16940  20827  Americas  NE America                                   1   \n",
       "16941  20830  Americas  NE America                                   1   \n",
       "16945  28561  Americas  NE America                                   1   \n",
       "16946  28318  Americas  NE America                                   1   \n",
       "\n",
       "       Pricing, Delivery_Terms_Approved  Bureaucratic_Code_0_Approval  \\\n",
       "0                                     1                             1   \n",
       "3                                     0                             1   \n",
       "4                                     0                             1   \n",
       "5                                     0                             1   \n",
       "6                                     0                             1   \n",
       "...                                 ...                           ...   \n",
       "16938                                 0                             0   \n",
       "16940                                 0                             0   \n",
       "16941                                 0                             0   \n",
       "16945                                 1                             1   \n",
       "16946                                 1                             1   \n",
       "\n",
       "       Bureaucratic_Code_0_Approved  Submitted_for_Approval  \\\n",
       "0                                 1                       0   \n",
       "3                                 0                       0   \n",
       "4                                 0                       0   \n",
       "5                                 0                       0   \n",
       "6                                 0                       0   \n",
       "...                             ...                     ...   \n",
       "16938                             0                       0   \n",
       "16940                             0                       0   \n",
       "16941                             0                       0   \n",
       "16945                             1                       0   \n",
       "16946                             1                       0   \n",
       "\n",
       "         Bureaucratic_Code Account_Created_Date  ... Delivery_Quarter  \\\n",
       "0      Bureaucratic_Code_4            6/16/2015  ...               Q2   \n",
       "3      Bureaucratic_Code_5            7/27/2013  ...               Q1   \n",
       "4      Bureaucratic_Code_5            7/27/2013  ...               Q1   \n",
       "5      Bureaucratic_Code_5            7/27/2013  ...               Q1   \n",
       "6      Bureaucratic_Code_5            7/27/2013  ...               Q1   \n",
       "...                    ...                  ...  ...              ...   \n",
       "16938  Bureaucratic_Code_5            12/4/2015  ...               Q3   \n",
       "16940  Bureaucratic_Code_5            6/16/2014  ...               Q4   \n",
       "16941  Bureaucratic_Code_5            6/16/2014  ...               Q4   \n",
       "16945  Bureaucratic_Code_4           10/20/2015  ...               Q2   \n",
       "16946  Bureaucratic_Code_4             9/3/2015  ...               Q3   \n",
       "\n",
       "      Delivery_Year Actual_Delivery_Date TRF  Total_Amount_Currency  \\\n",
       "0              2016                  NaT  10                    EUR   \n",
       "3              2018                  NaT  14                    USD   \n",
       "4              2018                  NaT  25                    USD   \n",
       "5              2018                  NaT  28                    USD   \n",
       "6              2017                  NaT   7                    USD   \n",
       "...             ...                  ...  ..                    ...   \n",
       "16938          2016                  NaT   3                    EUR   \n",
       "16940          2016                  NaT  20                    USD   \n",
       "16941          2016                  NaT  20                    USD   \n",
       "16945          2016                  NaT   4                    USD   \n",
       "16946          2016                  NaT  40                    USD   \n",
       "\n",
       "      Total_Amount Total_Taxable_Amount_Currency Total_Taxable_Amount  \\\n",
       "0       5272800.00                           EUR            5272800.0   \n",
       "3       7421881.50                           USD            7421881.5   \n",
       "4      13357192.50                           USD           13357192.5   \n",
       "5      14838277.50                           USD           14838277.5   \n",
       "6       2659494.60                           USD            2659494.6   \n",
       "...            ...                           ...                  ...   \n",
       "16938   1307775.00                           EUR            1307775.0   \n",
       "16940  10751580.00                           USD           21332500.0   \n",
       "16941  10580920.00                           USD           21332500.0   \n",
       "16945   2346796.88                           USD                  0.0   \n",
       "16946  25603200.00                           USD                  0.0   \n",
       "\n",
       "             Stage       Prod_Category_A  \n",
       "0      Closed Lost  Prod_Category_A_None  \n",
       "3      Closed Lost  Prod_Category_A_None  \n",
       "4      Closed Lost  Prod_Category_A_None  \n",
       "5      Closed Lost  Prod_Category_A_None  \n",
       "6      Closed Lost  Prod_Category_A_None  \n",
       "...            ...                   ...  \n",
       "16938  Closed Lost  Prod_Category_A_None  \n",
       "16940  Closed Lost  Prod_Category_A_None  \n",
       "16941  Closed Lost  Prod_Category_A_None  \n",
       "16945  Closed Lost  Prod_Category_A_None  \n",
       "16946  Closed Lost  Prod_Category_A_None  \n",
       "\n",
       "[7350 rows x 52 columns]"
      ]
     },
     "execution_count": 79,
     "metadata": {},
     "output_type": "execute_result"
    }
   ],
   "source": [
    "df_closed_lost"
   ]
  },
  {
   "cell_type": "code",
   "execution_count": 78,
   "metadata": {},
   "outputs": [
    {
     "data": {
      "text/plain": [
       "2017    6318\n",
       "2018    5830\n",
       "2016    4371\n",
       "2019     414\n",
       "2020      14\n",
       "Name: Delivery_Year, dtype: int64"
      ]
     },
     "execution_count": 78,
     "metadata": {},
     "output_type": "execute_result"
    }
   ],
   "source": [
    "df['Delivery_Year'].value_counts()"
   ]
  },
  {
   "cell_type": "code",
   "execution_count": 52,
   "metadata": {},
   "outputs": [],
   "source": [
    "import matplotlib.pyplot as plt\n",
    "import seaborn as sns\n",
    "\n",
    "%matplotlib inline\n",
    "\n",
    "plt.style.use('default') # haciendo los graficos un poco mas bonitos en matplotlib\n",
    "plt.rcParams['figure.figsize'] = (20, 10)"
   ]
  }
 ],
 "metadata": {
  "kernelspec": {
   "display_name": "Python 3",
   "language": "python",
   "name": "python3"
  },
  "language_info": {
   "codemirror_mode": {
    "name": "ipython",
    "version": 3
   },
   "file_extension": ".py",
   "mimetype": "text/x-python",
   "name": "python",
   "nbconvert_exporter": "python",
   "pygments_lexer": "ipython3",
   "version": "3.8.3"
  }
 },
 "nbformat": 4,
 "nbformat_minor": 4
}
