{
  "nbformat": 4,
  "nbformat_minor": 0,
  "metadata": {
    "kernelspec": {
      "display_name": "Python 3",
      "language": "python",
      "name": "python3"
    },
    "language_info": {
      "codemirror_mode": {
        "name": "ipython",
        "version": 3
      },
      "file_extension": ".py",
      "mimetype": "text/x-python",
      "name": "python",
      "nbconvert_exporter": "python",
      "pygments_lexer": "ipython3",
      "version": "3.8.5"
    },
    "colab": {
      "name": "Analisis Tipo de oportunidad.ipynb",
      "provenance": [],
      "collapsed_sections": []
    }
  },
  "cells": [
    {
      "cell_type": "code",
      "metadata": {
        "id": "BBymKA1PX6hq"
      },
      "source": [
        "import pandas as pd\n",
        "import numpy as np\n",
        "\n",
        "df = pd.read_csv(\"/content/Entrenamieto_ECI_2020.csv\")\n",
        "df.shape"
      ],
      "execution_count": null,
      "outputs": []
    },
    {
      "cell_type": "code",
      "metadata": {
        "id": "SMQQMnG4eidG"
      },
      "source": [
        "df['Pricing, Delivery_Terms_Quote_Appr'] = df['Pricing, Delivery_Terms_Quote_Appr'].astype('boolean')\n",
        "df['Pricing, Delivery_Terms_Approved'] = df['Pricing, Delivery_Terms_Approved'].astype('boolean')\n",
        "df['Bureaucratic_Code_0_Approval'] = df['Bureaucratic_Code_0_Approval'].astype('boolean')\n",
        "df['Bureaucratic_Code_0_Approved'] = df['Bureaucratic_Code_0_Approved'].astype('boolean')\n",
        "\n",
        "df['Total_Amount_Currency'] = df['Total_Amount_Currency'].astype('category')\n",
        "df['Stage'] = df['Stage'].astype('category')\n",
        "df['Region'] = df['Region'].astype('category')\n",
        "\n",
        "df['Source '] = df['Source '].astype('category')\n",
        "df['Billing_Country'] = df['Billing_Country'].astype('category')\n",
        "df['Account_Name'] = df['Account_Name'].astype('category')\n",
        "df['Opportunity_Name'] = df['Opportunity_Name'].astype('category')\n",
        "df['Account_Owner'] = df['Account_Owner'].astype('category')\n",
        "df['Delivery_Terms'] = df['Delivery_Terms'].astype('category')\n",
        "df['Product_Family'] = df['Product_Family'].astype('category')\n",
        "df['Product_Name'] = df['Product_Name'].astype('category')\n",
        "df['Brand'] = df['Brand'].astype('category')\n",
        "\n",
        "df['Last_Modified_By'] = df['Last_Modified_By'].astype('category')\n",
        "df['Opportunity_Owner'] = df['Opportunity_Owner'].astype('category')\n",
        "df['Territory'] = df['Territory'].astype('category')\n",
        "\n",
        "df['Total_Taxable_Amount_Currency'] = df['Total_Taxable_Amount_Currency'].astype('category')\n",
        "df['Bureaucratic_Code'] = df['Bureaucratic_Code'].astype('category')\n",
        "df['Account_Type'] = df['Account_Type'].astype('category')\n",
        "df['Quote_Type'] = df['Quote_Type'].astype('category')\n",
        "df['Opportunity_Type'] = df['Opportunity_Type'].astype('category')\n",
        "df['Product_Type'] = df['Product_Type'].astype('category')\n",
        "df['Product_Category_B'] = df['Product_Category_B'].astype('category')\n",
        "df['Currency'] = df['Currency'].astype('category')\n",
        "df['ASP_Currency'] = df['ASP_Currency'].astype('category')\n",
        "df['Delivery_Quarter'] = df['Delivery_Quarter'].astype('category')\n",
        "df['Delivery_Year'] = df['Delivery_Year'].astype('category')\n",
        "\n",
        "#Normalizo Fechas\n",
        "df['Account_Created_Date'] = pd.to_datetime(df['Account_Created_Date'], format='%m/%d/%Y')\n",
        "df['Last_Modified_Date'] = pd.to_datetime(df['Last_Modified_Date'], format='%m/%d/%Y')\n",
        "df['Quote_Expiry_Date'] = pd.to_datetime(df['Quote_Expiry_Date'], format='%m/%d/%Y')\n",
        "df['Planned_Delivery_Start_Date'] = pd.to_datetime(df['Planned_Delivery_Start_Date'], format='%m/%d/%Y')\n",
        "df['Planned_Delivery_End_Date'] = pd.to_datetime(df['Planned_Delivery_End_Date'], format='%m/%d/%Y')\n",
        "df['Account_Created_Date'] = pd.to_datetime(df['Account_Created_Date'], format='%m/%d/%Y')\n",
        "df['Opportunity_Created_Date'] = pd.to_datetime(df['Opportunity_Created_Date'], format='%m/%d/%Y')\n",
        "#Normalizo Floats\n",
        "df['ASP'] = pd.to_numeric(df['ASP'],downcast='float',errors='coerce')\n",
        "df['ASP_(converted)'] = pd.to_numeric(df['ASP_(converted)'],downcast='float',errors='coerce')\n",
        "df['Total_Amount'] = pd.to_numeric(df['Total_Amount'],downcast='float',errors='coerce')\n",
        "df['Total_Taxable_Amount'] = pd.to_numeric(df['Total_Taxable_Amount'],downcast='float',errors='coerce')\n",
        "df['ASP'] = pd.to_numeric(df['ASP'],downcast='float',errors='coerce')\n",
        "\n",
        "df['Sales_Contract_No'] = pd.to_numeric(df['Sales_Contract_No'],downcast='integer',errors='coerce')"
      ],
      "execution_count": 2,
      "outputs": []
    },
    {
      "cell_type": "code",
      "metadata": {
        "id": "v-XwUueFX6hz",
        "outputId": "946663db-a2f4-4463-fe32-4b1a84b6565a",
        "colab": {
          "base_uri": "https://localhost:8080/"
        }
      },
      "source": [
        "# columnas con valor unico -> no aportan informacion\n",
        "nunique = df.apply(pd.Series.nunique)\n",
        "cols_to_drop = nunique[nunique == 1].index\n",
        "cols_to_drop"
      ],
      "execution_count": 3,
      "outputs": [
        {
          "output_type": "execute_result",
          "data": {
            "text/plain": [
              "Index(['Submitted_for_Approval', 'Last_Activity', 'ASP_(converted)_Currency',\n",
              "       'Actual_Delivery_Date', 'Prod_Category_A'],\n",
              "      dtype='object')"
            ]
          },
          "metadata": {
            "tags": []
          },
          "execution_count": 3
        }
      ]
    },
    {
      "cell_type": "code",
      "metadata": {
        "id": "oKvwWMIjX6h2",
        "outputId": "e456335a-ed22-4562-80ca-30849f9bf520",
        "colab": {
          "base_uri": "https://localhost:8080/"
        }
      },
      "source": [
        "# Elimino columnas que no aporta informacion\n",
        "df.drop(cols_to_drop, axis=1, inplace = True)\n",
        "df.shape"
      ],
      "execution_count": 4,
      "outputs": [
        {
          "output_type": "execute_result",
          "data": {
            "text/plain": [
              "(16947, 47)"
            ]
          },
          "metadata": {
            "tags": []
          },
          "execution_count": 4
        }
      ]
    },
    {
      "cell_type": "code",
      "metadata": {
        "id": "Q_czcMtEX6h5",
        "outputId": "d9da4480-9e36-4a65-904b-de27fa1bf804",
        "colab": {
          "base_uri": "https://localhost:8080/"
        }
      },
      "source": [
        "# Las propuestas diferentes a Closed Won o Closed Lost representan una infima cantidad (64/16mil)\n",
        "# Son propuestas en curso que estan todavia en diferententes fases y no aportan informacion para predecir\n",
        "# si la venta se produce o no\n",
        "# son la moyoria del 2019 o 2020, y una que quedo colgada del 2017\n",
        "df[(df['Stage']!= 'Closed Lost') & (df['Stage']!= 'Closed Won') ].shape"
      ],
      "execution_count": 5,
      "outputs": [
        {
          "output_type": "execute_result",
          "data": {
            "text/plain": [
              "(64, 47)"
            ]
          },
          "metadata": {
            "tags": []
          },
          "execution_count": 5
        }
      ]
    },
    {
      "cell_type": "code",
      "metadata": {
        "id": "MVigH5XQX6h8"
      },
      "source": [
        "# elimino esas 64 columnas\n",
        "df = df[(df['Stage']== 'Closed Lost') | (df['Stage']== 'Closed Won') ]"
      ],
      "execution_count": 6,
      "outputs": []
    },
    {
      "cell_type": "code",
      "metadata": {
        "id": "C7Uf6BIKX6h_"
      },
      "source": [
        "df = df[df.Total_Amount.notna()]\n",
        "df.Price.value_counts()"
      ],
      "execution_count": null,
      "outputs": []
    },
    {
      "cell_type": "markdown",
      "metadata": {
        "id": "JPP2CrIMX6iD"
      },
      "source": [
        "Como se puede ver, en el 15859 de 16824 registros el valor es None, si contamos tambien los que tiene Other estamos hablando de 16468/16824.\n",
        "Por lo que podriamos no utilizar"
      ]
    },
    {
      "cell_type": "code",
      "metadata": {
        "id": "-N6_nMjMX6iE"
      },
      "source": [
        "df.Size.value_counts()"
      ],
      "execution_count": null,
      "outputs": []
    },
    {
      "cell_type": "markdown",
      "metadata": {
        "id": "k55iPwNXX6iG"
      },
      "source": [
        "En este caso, podemos ver que la columna Size, tiene informacion sonbre apenas el 3.47%(586/16888b) de los datos, con lo que tampoco la tendremos en cuenta."
      ]
    },
    {
      "cell_type": "code",
      "metadata": {
        "id": "u9r5NhVJX6iI"
      },
      "source": [
        "df.drop('Size',\n",
        "  axis='columns', inplace=True)\n",
        "df.drop('Price',\n",
        "  axis='columns', inplace=True)"
      ],
      "execution_count": 9,
      "outputs": []
    },
    {
      "cell_type": "code",
      "metadata": {
        "id": "T1esPCF_X6iQ",
        "outputId": "b7ff8e84-fa68-4dbe-9301-1111cb9a36e7",
        "colab": {
          "base_uri": "https://localhost:8080/"
        }
      },
      "source": [
        "df.to_csv(r'/content/train_clean.csv', index = False)\n",
        "df_clean = pd.read_csv(\"/content/train_clean.csv\")\n",
        "df_clean.shape"
      ],
      "execution_count": 10,
      "outputs": [
        {
          "output_type": "execute_result",
          "data": {
            "text/plain": [
              "(16824, 45)"
            ]
          },
          "metadata": {
            "tags": []
          },
          "execution_count": 10
        }
      ]
    },
    {
      "cell_type": "code",
      "metadata": {
        "id": "O1BGPoQ_j7AC",
        "outputId": "d6018d14-9974-4037-a83d-6482efcfd452",
        "colab": {
          "base_uri": "https://localhost:8080/",
          "height": 194
        }
      },
      "source": [
        "df_closed_lost = df[df['Stage'] == 'Closed Lost']\n",
        "df_closed_won = df[df['Stage'] == 'Closed Won']\n",
        "\n",
        "df_region_ganados_y_perdidos = pd.concat([df_closed_lost.groupby(['Opportunity_Type']).size(),df_closed_won.groupby(['Opportunity_Type']).size()], axis = 1)\n",
        "col_rename = {0:'casos perdidos', 1: 'casos ganados'}\n",
        "df_region_ganados_y_perdidos = df_region_ganados_y_perdidos.rename( columns = col_rename)\n",
        "df_region_ganados_y_perdidos = df_region_ganados_y_perdidos[(df_region_ganados_y_perdidos['casos perdidos'] + df_region_ganados_y_perdidos['casos ganados']) > 300]\n",
        "df_region_ganados_y_perdidos"
      ],
      "execution_count": 12,
      "outputs": [
        {
          "output_type": "execute_result",
          "data": {
            "text/html": [
              "<div>\n",
              "<style scoped>\n",
              "    .dataframe tbody tr th:only-of-type {\n",
              "        vertical-align: middle;\n",
              "    }\n",
              "\n",
              "    .dataframe tbody tr th {\n",
              "        vertical-align: top;\n",
              "    }\n",
              "\n",
              "    .dataframe thead th {\n",
              "        text-align: right;\n",
              "    }\n",
              "</style>\n",
              "<table border=\"1\" class=\"dataframe\">\n",
              "  <thead>\n",
              "    <tr style=\"text-align: right;\">\n",
              "      <th></th>\n",
              "      <th>casos perdidos</th>\n",
              "      <th>casos ganados</th>\n",
              "    </tr>\n",
              "    <tr>\n",
              "      <th>Opportunity_Type</th>\n",
              "      <th></th>\n",
              "      <th></th>\n",
              "    </tr>\n",
              "  </thead>\n",
              "  <tbody>\n",
              "    <tr>\n",
              "      <th>Opportunity_Type_1</th>\n",
              "      <td>3141</td>\n",
              "      <td>3617</td>\n",
              "    </tr>\n",
              "    <tr>\n",
              "      <th>Opportunity_Type_19</th>\n",
              "      <td>1456</td>\n",
              "      <td>399</td>\n",
              "    </tr>\n",
              "    <tr>\n",
              "      <th>Opportunity_Type_7</th>\n",
              "      <td>1819</td>\n",
              "      <td>3941</td>\n",
              "    </tr>\n",
              "    <tr>\n",
              "      <th>Opportunity_Type_8</th>\n",
              "      <td>428</td>\n",
              "      <td>1024</td>\n",
              "    </tr>\n",
              "  </tbody>\n",
              "</table>\n",
              "</div>"
            ],
            "text/plain": [
              "                     casos perdidos  casos ganados\n",
              "Opportunity_Type                                  \n",
              "Opportunity_Type_1             3141           3617\n",
              "Opportunity_Type_19            1456            399\n",
              "Opportunity_Type_7             1819           3941\n",
              "Opportunity_Type_8              428           1024"
            ]
          },
          "metadata": {
            "tags": []
          },
          "execution_count": 12
        }
      ]
    },
    {
      "cell_type": "code",
      "metadata": {
        "id": "AMaheUh7JfJS",
        "outputId": "48ec10c7-ae98-4c37-a363-cf2f3ff6d515",
        "colab": {
          "base_uri": "https://localhost:8080/",
          "height": 494
        }
      },
      "source": [
        "import matplotlib.pyplot as plt\n",
        "import pandas as pd\n",
        "from math import pi\n",
        "from matplotlib.pyplot import figure\n",
        "figure(num=None, figsize=(8, 6), dpi=80, facecolor='w', edgecolor='k') \n",
        "\n",
        "df = pd.DataFrame({\n",
        "'group': ['A','B'],\n",
        "'Tipo 1': [3157, 3617],\n",
        "'Tipo 7': [1819, 3941],\n",
        "'Tipo 19': [1490, 399],\n",
        "'Tipo 8': [434, 1024]\n",
        "})\n",
        "\n",
        "categories=list(df)[1:]\n",
        "N = len(categories)\n",
        " \n",
        "angles = [n / float(N) * 2 * pi for n in range(N)]\n",
        "angles += angles[:1]\n",
        " \n",
        "ax = plt.subplot(111, polar=True)\n",
        " \n",
        "ax.set_theta_offset(pi / 2)\n",
        "ax.set_theta_direction(-1)\n",
        " \n",
        "plt.xticks(angles[:-1], categories)\n",
        " \n",
        "ax.set_rlabel_position(0)\n",
        "plt.yticks([1000,2000,3000,4000], [\"1000\",\"2000\",\"3000\",\"4000\"], color=\"grey\", size=8)\n",
        "plt.ylim(0,4000)\n",
        "\n",
        "values=df.loc[0].drop('group').values.flatten().tolist()\n",
        "values += values[:1]\n",
        "ax.plot(angles, values, linewidth=1, linestyle='solid', label=\"casos perdidos\")\n",
        "ax.fill(angles, values, 'b', alpha=0.1)\n",
        " \n",
        "values=df.loc[1].drop('group').values.flatten().tolist()\n",
        "values += values[:1]\n",
        "ax.plot(angles, values, linewidth=1, linestyle='solid', label=\"casos ganados\")\n",
        "ax.fill(angles, values, 'r', alpha=0.1)\n",
        " \n",
        "plt.legend(loc='upper right', bbox_to_anchor=(0.1, 0.1))\n",
        "plt.title('Casos ganados y perdidos según el tipo de oportunidad\\n', fontsize = 15)\n"
      ],
      "execution_count": 18,
      "outputs": [
        {
          "output_type": "execute_result",
          "data": {
            "text/plain": [
              "Text(0.5, 1.05, 'Casos ganados y perdidos según el tipo de oportunidad\\n')"
            ]
          },
          "metadata": {
            "tags": []
          },
          "execution_count": 18
        },
        {
          "output_type": "display_data",
          "data": {
            "image/png": "[encoded data removed]",
            "text/plain": [
              "<Figure size 640x480 with 1 Axes>"
            ]
          },
          "metadata": {
            "tags": []
          }
        }
      ]
    }
  ]
}