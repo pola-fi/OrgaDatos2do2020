{
  "nbformat": 4,
  "nbformat_minor": 0,
  "metadata": {
    "kernelspec": {
      "display_name": "Python 3",
      "language": "python",
      "name": "python3"
    },
    "language_info": {
      "codemirror_mode": {
        "name": "ipython",
        "version": 3
      },
      "file_extension": ".py",
      "mimetype": "text/x-python",
      "name": "python",
      "nbconvert_exporter": "python",
      "pygments_lexer": "ipython3",
      "version": "3.8.5"
    },
    "colab": {
      "name": "Analisis Bureaucratic_Code.ipynb",
      "provenance": [],
      "collapsed_sections": []
    }
  },
  "cells": [
    {
      "cell_type": "code",
      "metadata": {
        "id": "BBymKA1PX6hq",
        "outputId": "e9e1dd3e-5f96-447a-c0cd-79aef035e4a3",
        "colab": {
          "base_uri": "https://localhost:8080/"
        }
      },
      "source": [
        "import pandas as pd\n",
        "import numpy as np\n",
        "\n",
        "df = pd.read_csv(\"/content/Entrenamieto_ECI_2020.csv\")\n",
        "df.shape"
      ],
      "execution_count": 132,
      "outputs": [
        {
          "output_type": "execute_result",
          "data": {
            "text/plain": [
              "(16947, 52)"
            ]
          },
          "metadata": {
            "tags": []
          },
          "execution_count": 132
        }
      ]
    },
    {
      "cell_type": "code",
      "metadata": {
        "id": "SMQQMnG4eidG"
      },
      "source": [
        "df['Pricing, Delivery_Terms_Quote_Appr'] = df['Pricing, Delivery_Terms_Quote_Appr'].astype('boolean')\n",
        "df['Pricing, Delivery_Terms_Approved'] = df['Pricing, Delivery_Terms_Approved'].astype('boolean')\n",
        "df['Bureaucratic_Code_0_Approval'] = df['Bureaucratic_Code_0_Approval'].astype('boolean')\n",
        "df['Bureaucratic_Code_0_Approved'] = df['Bureaucratic_Code_0_Approved'].astype('boolean')\n",
        "\n",
        "df['Total_Amount_Currency'] = df['Total_Amount_Currency'].astype('category')\n",
        "df['Stage'] = df['Stage'].astype('category')\n",
        "df['Region'] = df['Region'].astype('category')\n",
        "\n",
        "df['Source '] = df['Source '].astype('category')\n",
        "df['Billing_Country'] = df['Billing_Country'].astype('category')\n",
        "df['Account_Name'] = df['Account_Name'].astype('category')\n",
        "df['Opportunity_Name'] = df['Opportunity_Name'].astype('category')\n",
        "df['Account_Owner'] = df['Account_Owner'].astype('category')\n",
        "df['Delivery_Terms'] = df['Delivery_Terms'].astype('category')\n",
        "df['Product_Family'] = df['Product_Family'].astype('category')\n",
        "df['Product_Name'] = df['Product_Name'].astype('category')\n",
        "df['Brand'] = df['Brand'].astype('category')\n",
        "\n",
        "df['Last_Modified_By'] = df['Last_Modified_By'].astype('category')\n",
        "df['Opportunity_Owner'] = df['Opportunity_Owner'].astype('category')\n",
        "df['Territory'] = df['Territory'].astype('category')\n",
        "\n",
        "df['Total_Taxable_Amount_Currency'] = df['Total_Taxable_Amount_Currency'].astype('category')\n",
        "df['Bureaucratic_Code'] = df['Bureaucratic_Code'].astype('category')\n",
        "df['Account_Type'] = df['Account_Type'].astype('category')\n",
        "df['Quote_Type'] = df['Quote_Type'].astype('category')\n",
        "df['Opportunity_Type'] = df['Opportunity_Type'].astype('category')\n",
        "df['Product_Type'] = df['Product_Type'].astype('category')\n",
        "df['Product_Category_B'] = df['Product_Category_B'].astype('category')\n",
        "df['Currency'] = df['Currency'].astype('category')\n",
        "df['ASP_Currency'] = df['ASP_Currency'].astype('category')\n",
        "df['Delivery_Quarter'] = df['Delivery_Quarter'].astype('category')\n",
        "df['Delivery_Year'] = df['Delivery_Year'].astype('category')\n",
        "\n",
        "#Normalizo Fechas\n",
        "df['Account_Created_Date'] = pd.to_datetime(df['Account_Created_Date'], format='%m/%d/%Y')\n",
        "df['Last_Modified_Date'] = pd.to_datetime(df['Last_Modified_Date'], format='%m/%d/%Y')\n",
        "df['Quote_Expiry_Date'] = pd.to_datetime(df['Quote_Expiry_Date'], format='%m/%d/%Y')\n",
        "df['Planned_Delivery_Start_Date'] = pd.to_datetime(df['Planned_Delivery_Start_Date'], format='%m/%d/%Y')\n",
        "df['Planned_Delivery_End_Date'] = pd.to_datetime(df['Planned_Delivery_End_Date'], format='%m/%d/%Y')\n",
        "df['Account_Created_Date'] = pd.to_datetime(df['Account_Created_Date'], format='%m/%d/%Y')\n",
        "df['Opportunity_Created_Date'] = pd.to_datetime(df['Opportunity_Created_Date'], format='%m/%d/%Y')\n",
        "#Normalizo Floats\n",
        "df['ASP'] = pd.to_numeric(df['ASP'],downcast='float',errors='coerce')\n",
        "df['ASP_(converted)'] = pd.to_numeric(df['ASP_(converted)'],downcast='float',errors='coerce')\n",
        "df['Total_Amount'] = pd.to_numeric(df['Total_Amount'],downcast='float',errors='coerce')\n",
        "df['Total_Taxable_Amount'] = pd.to_numeric(df['Total_Taxable_Amount'],downcast='float',errors='coerce')\n",
        "df['ASP'] = pd.to_numeric(df['ASP'],downcast='float',errors='coerce')\n",
        "\n",
        "df['Sales_Contract_No'] = pd.to_numeric(df['Sales_Contract_No'],downcast='integer',errors='coerce')"
      ],
      "execution_count": 133,
      "outputs": []
    },
    {
      "cell_type": "code",
      "metadata": {
        "id": "v-XwUueFX6hz",
        "outputId": "fb042b6d-7319-4bdc-e5dd-fc95081ad249",
        "colab": {
          "base_uri": "https://localhost:8080/"
        }
      },
      "source": [
        "# columnas con valor unico -> no aportan informacion\n",
        "nunique = df.apply(pd.Series.nunique)\n",
        "cols_to_drop = nunique[nunique == 1].index\n",
        "cols_to_drop"
      ],
      "execution_count": 134,
      "outputs": [
        {
          "output_type": "execute_result",
          "data": {
            "text/plain": [
              "Index(['Submitted_for_Approval', 'Last_Activity', 'ASP_(converted)_Currency',\n",
              "       'Actual_Delivery_Date', 'Prod_Category_A'],\n",
              "      dtype='object')"
            ]
          },
          "metadata": {
            "tags": []
          },
          "execution_count": 134
        }
      ]
    },
    {
      "cell_type": "code",
      "metadata": {
        "id": "oKvwWMIjX6h2",
        "outputId": "8b1bfc0e-8971-4f97-bff3-11d65d60488f",
        "colab": {
          "base_uri": "https://localhost:8080/"
        }
      },
      "source": [
        "# Elimino columnas que no aporta informacion\n",
        "df.drop(cols_to_drop, axis=1, inplace = True)\n",
        "df.shape"
      ],
      "execution_count": 135,
      "outputs": [
        {
          "output_type": "execute_result",
          "data": {
            "text/plain": [
              "(16947, 47)"
            ]
          },
          "metadata": {
            "tags": []
          },
          "execution_count": 135
        }
      ]
    },
    {
      "cell_type": "code",
      "metadata": {
        "id": "Q_czcMtEX6h5",
        "outputId": "b357318e-aade-411e-9016-93655f91e6f6",
        "colab": {
          "base_uri": "https://localhost:8080/"
        }
      },
      "source": [
        "# Las propuestas diferentes a Closed Won o Closed Lost representan una infima cantidad (64/16mil)\n",
        "# Son propuestas en curso que estan todavia en diferententes fases y no aportan informacion para predecir\n",
        "# si la venta se produce o no\n",
        "# son la moyoria del 2019 o 2020, y una que quedo colgada del 2017\n",
        "df[(df['Stage']!= 'Closed Lost') & (df['Stage']!= 'Closed Won') ].shape"
      ],
      "execution_count": 136,
      "outputs": [
        {
          "output_type": "execute_result",
          "data": {
            "text/plain": [
              "(64, 47)"
            ]
          },
          "metadata": {
            "tags": []
          },
          "execution_count": 136
        }
      ]
    },
    {
      "cell_type": "code",
      "metadata": {
        "id": "MVigH5XQX6h8"
      },
      "source": [
        "# elimino esas 64 columnas\n",
        "df = df[(df['Stage']== 'Closed Lost') | (df['Stage']== 'Closed Won') ]"
      ],
      "execution_count": 137,
      "outputs": []
    },
    {
      "cell_type": "code",
      "metadata": {
        "id": "C7Uf6BIKX6h_"
      },
      "source": [
        "df = df[df.Total_Amount.notna()]\n",
        "df.Price.value_counts()"
      ],
      "execution_count": null,
      "outputs": []
    },
    {
      "cell_type": "markdown",
      "metadata": {
        "id": "JPP2CrIMX6iD"
      },
      "source": [
        "Como se puede ver, en el 15859 de 16824 registros el valor es None, si contamos tambien los que tiene Other estamos hablando de 16468/16824.\n",
        "Por lo que podriamos no utilizar"
      ]
    },
    {
      "cell_type": "code",
      "metadata": {
        "id": "-N6_nMjMX6iE",
        "outputId": "044462ac-71bf-4d83-c371-b5fd9a7e87b1",
        "colab": {
          "base_uri": "https://localhost:8080/"
        }
      },
      "source": [
        "df.Size.value_counts()"
      ],
      "execution_count": 139,
      "outputs": [
        {
          "output_type": "execute_result",
          "data": {
            "text/plain": [
              "None      15844\n",
              "Other       394\n",
              "Size_3      356\n",
              "Size_4      196\n",
              "Size_1       25\n",
              "Size_0        7\n",
              "Size_2        2\n",
              "Name: Size, dtype: int64"
            ]
          },
          "metadata": {
            "tags": []
          },
          "execution_count": 139
        }
      ]
    },
    {
      "cell_type": "markdown",
      "metadata": {
        "id": "k55iPwNXX6iG"
      },
      "source": [
        "En este caso, podemos ver que la columna Size, tiene informacion sonbre apenas el 3.47%(586/16888b) de los datos, con lo que tampoco la tendremos en cuenta."
      ]
    },
    {
      "cell_type": "code",
      "metadata": {
        "id": "u9r5NhVJX6iI"
      },
      "source": [
        "df.drop('Size',\n",
        "  axis='columns', inplace=True)\n",
        "df.drop('Price',\n",
        "  axis='columns', inplace=True)"
      ],
      "execution_count": 140,
      "outputs": []
    },
    {
      "cell_type": "code",
      "metadata": {
        "id": "T1esPCF_X6iQ",
        "outputId": "2be10dcb-d435-4a99-9ee0-e8f6f0da0899",
        "colab": {
          "base_uri": "https://localhost:8080/"
        }
      },
      "source": [
        "df.to_csv(r'/content/train_clean.csv', index = False)\n",
        "df_clean = pd.read_csv(\"/content/train_clean.csv\")\n",
        "df_clean.shape"
      ],
      "execution_count": 141,
      "outputs": [
        {
          "output_type": "execute_result",
          "data": {
            "text/plain": [
              "(16824, 45)"
            ]
          },
          "metadata": {
            "tags": []
          },
          "execution_count": 141
        }
      ]
    },
    {
      "cell_type": "code",
      "metadata": {
        "id": "VapqDU8YcBJs",
        "outputId": "c83dd6b2-ca05-499e-a92d-23f6642719ef",
        "colab": {
          "base_uri": "https://localhost:8080/",
          "height": 412
        }
      },
      "source": [
        "df_closed_won = df_clean[df_clean['Stage'] == 'Closed Won']\n",
        "df_closed_lost = df_clean[df_clean['Stage'] == 'Closed Lost']\n",
        "\n",
        "wins_lost_by_buroc_0 = pd.concat([df_closed_lost.groupby(['Bureaucratic_Code_0_Approval']).size(),df_closed_won.groupby(['Bureaucratic_Code_0_Approval']).size()], axis = 1)\n",
        "col_rename = {0:'casos perdidos', 1: 'casos ganados'}\n",
        "row_rename = {False:'No', True: 'Si'}\n",
        "\n",
        "wins_lost_by_buroc_0 = wins_lost_by_buroc_0.rename( columns = col_rename, index = row_rename)\n",
        "g = wins_lost_by_buroc_0.plot(kind = 'bar', ylabel = 'Cantidad de casos', xlabel = 'Necesita aprobación del código burocrático n°0', fontsize = 13,\n",
        "                              title = 'Cantidad de casos ganados o perdidos segun la necesidad del código burocrático n°0', figsize = (10,6))"
      ],
      "execution_count": 142,
      "outputs": [
        {
          "output_type": "display_data",
          "data": {
            "image/png": "[encoded data removed]",
            "text/plain": [
              "<Figure size 720x432 with 1 Axes>"
            ]
          },
          "metadata": {
            "tags": [],
            "needs_background": "light"
          }
        }
      ]
    },
    {
      "cell_type": "markdown",
      "metadata": {
        "id": "a1sYCZeO2fKM"
      },
      "source": [
        "Se puede observar que si la oportunidad requiere el código de aprobación burocrático n° 0,  la cantidad de casos ganados/perdidos es relativamente uniforme, pero en caso de no requerir dicha aprobación, las probabilidades de terminar en un caso ganado se incrementan bastante"
      ]
    },
    {
      "cell_type": "code",
      "metadata": {
        "id": "QeDm_JHMarHl",
        "outputId": "bf49bdb3-127d-4ff5-93c9-15bba74aeb3c",
        "colab": {
          "base_uri": "https://localhost:8080/",
          "height": 412
        }
      },
      "source": [
        "df_approval_need = df_clean[(df_clean['Bureaucratic_Code_0_Approval'] == 1)]\n",
        "df_ap_n_w = df_approval_need[(df_approval_need['Stage'] == 'Closed Won')]\n",
        "df_ap_n_l = df_approval_need[(df_approval_need['Stage'] == 'Closed Lost')]\n",
        "\n",
        "wins_lost_by_buroc_0_approved = pd.concat([df_ap_n_l.groupby(['Bureaucratic_Code_0_Approved']).size(),df_ap_n_w.groupby(['Bureaucratic_Code_0_Approved']).size()], axis = 1)\n",
        "col_rename = {0:'casos perdidos', 1: 'casos ganados'}\n",
        "row_rename = {False:'No', True: 'Si'}\n",
        "\n",
        "wins_lost_by_buroc_0_approved = wins_lost_by_buroc_0_approved.rename(columns = col_rename, index = row_rename)\n",
        "g = wins_lost_by_buroc_0_approved.plot(kind = 'bar', ylabel = 'Cantidad de casos', xlabel = 'Obtuvo la aprobación del código burocrático n°0', fontsize = 13,\n",
        "                              title = 'Cantidad de casos ganados o perdidos segun la aprobación del código burocrático n°0', figsize = (10,6))\n"
      ],
      "execution_count": 143,
      "outputs": [
        {
          "output_type": "display_data",
          "data": {
            "image/png": "[encoded data removed]",
            "text/plain": [
              "<Figure size 720x432 with 1 Axes>"
            ]
          },
          "metadata": {
            "tags": [],
            "needs_background": "light"
          }
        }
      ]
    },
    {
      "cell_type": "markdown",
      "metadata": {
        "id": "EW4wnsUm3FD0"
      },
      "source": [
        "En el caso de que se requiera el código de aprobación burocrático n° 0, podemos analizar los casos donde se aprobó o no. Si se aprobó el caso,  los casos ganados o perdidos no varian mucho, pero si se rechazó su aprobación la probabiliidad de ser un caso perdido aumenta mucho. Por estas razones podemos decir que la necesidad de este codigo burocratico es una traba para que los casos sean exitosos "
      ]
    },
    {
      "cell_type": "code",
      "metadata": {
        "id": "47EpnJNBeYjS",
        "outputId": "d79b544e-21c3-48c8-ddb7-39893bd62dfe",
        "colab": {
          "base_uri": "https://localhost:8080/",
          "height": 532
        }
      },
      "source": [
        "wins_lost_by_buroc = pd.concat([df_closed_lost.groupby(['Bureaucratic_Code']).size(),df_closed_won.groupby(['Bureaucratic_Code']).size()], axis = 1)\n",
        "col_rename = {0:'casos perdidos', 1: 'casos ganados'}\n",
        "wins_lost_by_buroc = wins_lost_by_buroc.rename( columns = col_rename)\n",
        "g = wins_lost_by_buroc.plot(kind = 'bar', ylabel = 'Cantidad de casos', xlabel = 'Número de código burocrático', fontsize = 13,\n",
        "                              title = 'Cantidad de casos ganados o perdidos segun el tipo de código burocrático', figsize = (10,6))"
      ],
      "execution_count": 144,
      "outputs": [
        {
          "output_type": "display_data",
          "data": {
            "image/png": "[encoded data removed]",
            "text/plain": [
              "<Figure size 720x432 with 1 Axes>"
            ]
          },
          "metadata": {
            "tags": [],
            "needs_background": "light"
          }
        }
      ]
    },
    {
      "cell_type": "markdown",
      "metadata": {
        "id": "w70dexvAafJP"
      },
      "source": [
        "En este gráfico se puede apreciar que los casos que obtienen el codigo burocrático 4 tienen mayor probabilidad de éxito, mientras que los que tienen codigo burocrático 5 tienen mas chances de fracaso, de los otros códigos no podemos afirmar nada por la escasez de casos "
      ]
    },
    {
      "cell_type": "code",
      "metadata": {
        "id": "AMaheUh7JfJS"
      },
      "source": [
        ""
      ],
      "execution_count": null,
      "outputs": []
    }
  ]
}