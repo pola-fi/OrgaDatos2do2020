{
 "cells": [
  {
   "cell_type": "code",
   "execution_count": 1,
   "metadata": {},
   "outputs": [],
   "source": [
    "import pandas as pd\n",
    "import numpy as np\n",
    "import math \n",
    "\n",
    "import matplotlib.pyplot as plt\n",
    "from matplotlib import rc\n",
    "import pandas as pd\n",
    "\n",
    "df = pd.read_csv('./data/train_clean.csv')\n",
    "conversor = pd.read_csv('./data/conversor.csv',sep=';')\n",
    "conversor['Moneda'] = conversor['Moneda'].astype('category')\n",
    "conversor['Date'] = pd.to_datetime(conversor['Date'], format='%d/%m/%Y')"
   ]
  },
  {
   "cell_type": "code",
   "execution_count": 2,
   "metadata": {},
   "outputs": [
    {
     "name": "stdout",
     "output_type": "stream",
     "text": [
      "<class 'pandas.core.frame.DataFrame'>\n",
      "RangeIndex: 16824 entries, 0 to 16823\n",
      "Data columns (total 45 columns):\n",
      " #   Column                              Non-Null Count  Dtype         \n",
      "---  ------                              --------------  -----         \n",
      " 0   ID                                  16824 non-null  int64         \n",
      " 1   Region                              16824 non-null  category      \n",
      " 2   Territory                           16824 non-null  category      \n",
      " 3   Pricing, Delivery_Terms_Quote_Appr  16824 non-null  boolean       \n",
      " 4   Pricing, Delivery_Terms_Approved    16824 non-null  boolean       \n",
      " 5   Bureaucratic_Code_0_Approval        16824 non-null  boolean       \n",
      " 6   Bureaucratic_Code_0_Approved        16824 non-null  boolean       \n",
      " 7   Bureaucratic_Code                   16824 non-null  category      \n",
      " 8   Account_Created_Date                16824 non-null  datetime64[ns]\n",
      " 9   Source                              16824 non-null  category      \n",
      " 10  Billing_Country                     16824 non-null  category      \n",
      " 11  Account_Name                        16824 non-null  category      \n",
      " 12  Opportunity_Name                    16824 non-null  category      \n",
      " 13  Opportunity_ID                      16824 non-null  int64         \n",
      " 14  Sales_Contract_No                   9974 non-null   float64       \n",
      " 15  Account_Owner                       16824 non-null  category      \n",
      " 16  Opportunity_Owner                   16824 non-null  category      \n",
      " 17  Account_Type                        16824 non-null  category      \n",
      " 18  Opportunity_Type                    16824 non-null  category      \n",
      " 19  Quote_Type                          16824 non-null  category      \n",
      " 20  Delivery_Terms                      16824 non-null  category      \n",
      " 21  Opportunity_Created_Date            16824 non-null  datetime64[ns]\n",
      " 22  Brand                               16824 non-null  category      \n",
      " 23  Product_Type                        16824 non-null  category      \n",
      " 24  Product_Category_B                  16824 non-null  category      \n",
      " 25  Currency                            16824 non-null  category      \n",
      " 26  Quote_Expiry_Date                   12253 non-null  datetime64[ns]\n",
      " 27  Last_Modified_Date                  16824 non-null  datetime64[ns]\n",
      " 28  Last_Modified_By                    16824 non-null  category      \n",
      " 29  Product_Family                      16824 non-null  category      \n",
      " 30  Product_Name                        16824 non-null  category      \n",
      " 31  ASP_Currency                        16824 non-null  category      \n",
      " 32  ASP                                 13625 non-null  float32       \n",
      " 33  ASP_(converted)                     13625 non-null  float32       \n",
      " 34  Planned_Delivery_Start_Date         16824 non-null  datetime64[ns]\n",
      " 35  Planned_Delivery_End_Date           16749 non-null  datetime64[ns]\n",
      " 36  Month                               16824 non-null  object        \n",
      " 37  Delivery_Quarter                    16824 non-null  category      \n",
      " 38  Delivery_Year                       16824 non-null  category      \n",
      " 39  TRF                                 16824 non-null  int64         \n",
      " 40  Total_Amount_Currency               16824 non-null  category      \n",
      " 41  Total_Amount                        16824 non-null  float32       \n",
      " 42  Total_Taxable_Amount_Currency       16824 non-null  category      \n",
      " 43  Total_Taxable_Amount                16824 non-null  float32       \n",
      " 44  Stage                               16824 non-null  category      \n",
      "dtypes: boolean(4), category(26), datetime64[ns](6), float32(4), float64(1), int64(3), object(1)\n",
      "memory usage: 2.8+ MB\n"
     ]
    }
   ],
   "source": [
    "#Normalizo Booleanas\n",
    "df['Pricing, Delivery_Terms_Quote_Appr'] = df['Pricing, Delivery_Terms_Quote_Appr'].astype('boolean')\n",
    "df['Pricing, Delivery_Terms_Approved'] = df['Pricing, Delivery_Terms_Approved'].astype('boolean')\n",
    "df['Bureaucratic_Code_0_Approval'] = df['Bureaucratic_Code_0_Approval'].astype('boolean')\n",
    "df['Bureaucratic_Code_0_Approved'] = df['Bureaucratic_Code_0_Approved'].astype('boolean')\n",
    "\n",
    "df['Total_Amount_Currency'] = df['Total_Amount_Currency'].astype('category')\n",
    "df['Stage'] = df['Stage'].astype('category')\n",
    "df['Region'] = df['Region'].astype('category')\n",
    "\n",
    "df['Source '] = df['Source '].astype('category')\n",
    "df['Billing_Country'] = df['Billing_Country'].astype('category')\n",
    "df['Account_Name'] = df['Account_Name'].astype('category')\n",
    "df['Opportunity_Name'] = df['Opportunity_Name'].astype('category')\n",
    "df['Account_Owner'] = df['Account_Owner'].astype('category')\n",
    "df['Delivery_Terms'] = df['Delivery_Terms'].astype('category')\n",
    "df['Product_Family'] = df['Product_Family'].astype('category')\n",
    "df['Product_Name'] = df['Product_Name'].astype('category')\n",
    "df['Brand'] = df['Brand'].astype('category')\n",
    "\n",
    "df['Last_Modified_By'] = df['Last_Modified_By'].astype('category')\n",
    "df['Opportunity_Owner'] = df['Opportunity_Owner'].astype('category')\n",
    "df['Territory'] = df['Territory'].astype('category')\n",
    "\n",
    "df['Total_Taxable_Amount_Currency'] = df['Total_Taxable_Amount_Currency'].astype('category')\n",
    "df['Bureaucratic_Code'] = df['Bureaucratic_Code'].astype('category')\n",
    "df['Account_Type'] = df['Account_Type'].astype('category')\n",
    "df['Quote_Type'] = df['Quote_Type'].astype('category')\n",
    "df['Opportunity_Type'] = df['Opportunity_Type'].astype('category')\n",
    "df['Product_Type'] = df['Product_Type'].astype('category')\n",
    "df['Product_Category_B'] = df['Product_Category_B'].astype('category')\n",
    "df['Currency'] = df['Currency'].astype('category')\n",
    "df['ASP_Currency'] = df['ASP_Currency'].astype('category')\n",
    "df['Delivery_Quarter'] = df['Delivery_Quarter'].astype('category')\n",
    "df['Delivery_Year'] = df['Delivery_Year'].astype('category')\n",
    "\n",
    "#Normalizo Fechas\n",
    "df['Account_Created_Date'] = pd.to_datetime(df['Account_Created_Date'], format='%m/%d/%Y')\n",
    "df['Last_Modified_Date'] = pd.to_datetime(df['Last_Modified_Date'], format='%m/%d/%Y')\n",
    "df['Quote_Expiry_Date'] = pd.to_datetime(df['Quote_Expiry_Date'], format='%m/%d/%Y')\n",
    "df['Planned_Delivery_Start_Date'] = pd.to_datetime(df['Planned_Delivery_Start_Date'], format='%m/%d/%Y')\n",
    "df['Planned_Delivery_End_Date'] = pd.to_datetime(df['Planned_Delivery_End_Date'], format='%m/%d/%Y')\n",
    "df['Account_Created_Date'] = pd.to_datetime(df['Account_Created_Date'], format='%m/%d/%Y')\n",
    "df['Opportunity_Created_Date'] = pd.to_datetime(df['Opportunity_Created_Date'], format='%m/%d/%Y')\n",
    "#Normalizo Floats\n",
    "df['ASP'] = pd.to_numeric(df['ASP'],downcast='float',errors='coerce')\n",
    "df['ASP_(converted)'] = pd.to_numeric(df['ASP_(converted)'],downcast='float',errors='coerce')\n",
    "df['Total_Amount'] = pd.to_numeric(df['Total_Amount'],downcast='float',errors='coerce')\n",
    "df['Total_Taxable_Amount'] = pd.to_numeric(df['Total_Taxable_Amount'],downcast='float',errors='coerce')\n",
    "df['ASP'] = pd.to_numeric(df['ASP'],downcast='float',errors='coerce')\n",
    "\n",
    "df['Sales_Contract_No'] = pd.to_numeric(df['Sales_Contract_No'],downcast='integer',errors='coerce')\n",
    "df.info()"
   ]
  },
  {
   "cell_type": "markdown",
   "metadata": {},
   "source": [
    "Me creo una columna con el valor en dolares de las montos. Para tener todo unificado en la misma moneda"
   ]
  },
  {
   "cell_type": "code",
   "execution_count": 3,
   "metadata": {},
   "outputs": [],
   "source": [
    "df = df.merge(conversor, left_on=['Total_Amount_Currency','Last_Modified_Date'],right_on=['Moneda','Date'])\n",
    "df['Total_Amount_USD'] = df.Total_Amount * df.valor\n",
    "df.drop('Moneda',\n",
    "  axis='columns', inplace=True)\n",
    "df.drop('Date',\n",
    "  axis='columns', inplace=True)\n",
    "df.drop('valor',\n",
    "  axis='columns', inplace=True)"
   ]
  },
  {
   "cell_type": "code",
   "execution_count": 4,
   "metadata": {},
   "outputs": [
    {
     "ename": "SyntaxError",
     "evalue": "invalid syntax (<ipython-input-4-c1423009ec06>, line 1)",
     "output_type": "error",
     "traceback": [
      "\u001b[0;36m  File \u001b[0;32m\"<ipython-input-4-c1423009ec06>\"\u001b[0;36m, line \u001b[0;32m1\u001b[0m\n\u001b[0;31m    Ahora unifico el valor de los totales con impuestos\u001b[0m\n\u001b[0m          ^\u001b[0m\n\u001b[0;31mSyntaxError\u001b[0m\u001b[0;31m:\u001b[0m invalid syntax\n"
     ]
    }
   ],
   "source": [
    "Ahora unifico el valor de los totales con impuestos"
   ]
  },
  {
   "cell_type": "code",
   "execution_count": null,
   "metadata": {},
   "outputs": [],
   "source": [
    "df = df.merge(conversor, left_on=['Total_Taxable_Amount_Currency','Last_Modified_Date'],right_on=['Moneda','Date'])\n",
    "df['Total_Taxable_Amount_USD'] = df.Total_Taxable_Amount * df.valor\n",
    "df.drop('Moneda',\n",
    "  axis='columns', inplace=True)\n",
    "df.drop('Date',\n",
    "  axis='columns', inplace=True)\n",
    "df.drop('valor',\n",
    "  axis='columns', inplace=True)"
   ]
  },
  {
   "cell_type": "code",
   "execution_count": null,
   "metadata": {},
   "outputs": [],
   "source": [
    "df.columns"
   ]
  },
  {
   "cell_type": "code",
   "execution_count": null,
   "metadata": {
    "scrolled": false
   },
   "outputs": [],
   "source": []
  },
  {
   "cell_type": "code",
   "execution_count": null,
   "metadata": {},
   "outputs": [],
   "source": [
    "df['Opportunity_TRF'] = df.groupby(['Opportunity_ID'])['TRF'].transform('sum')\n",
    "df.drop_duplicates(subset=['Opportunity_ID'])"
   ]
  },
  {
   "cell_type": "code",
   "execution_count": null,
   "metadata": {
    "scrolled": true
   },
   "outputs": [],
   "source": [
    "aux = df.groupby(['Stage','Opportunity_TRF']).size().reset_index(name='cant')\n",
    "aux = pd.pivot_table(aux,values='cant', index=['Opportunity_TRF'], columns=['Stage'], fill_value=0)\n",
    "aux.columns = [\"Lost\",\"Won\"]\n",
    "aux = aux.apply(lambda x: x*100/sum(x), axis=1)\n",
    "aux.plot(kind=\"bar\", stacked=True,figsize=(30,15))\n"
   ]
  },
  {
   "cell_type": "code",
   "execution_count": null,
   "metadata": {},
   "outputs": [],
   "source": [
    "aux2 = df[(df['Pricing, Delivery_Terms_Quote_Appr']==True)  ]\\\n",
    "    .groupby(['Pricing, Delivery_Terms_Approved','Region']).size().reset_index(name='cant')\n",
    "aux2"
   ]
  },
  {
   "cell_type": "code",
   "execution_count": null,
   "metadata": {},
   "outputs": [],
   "source": [
    "aux2 = df.groupby(['Region','Opportunity_TRF','Stage']).size().reset_index(name='cant')\n",
    "aux2[aux2.cant>0]"
   ]
  },
  {
   "cell_type": "code",
   "execution_count": null,
   "metadata": {
    "scrolled": true
   },
   "outputs": [],
   "source": [
    "df.Total_Amount_Currency.value_counts"
   ]
  },
  {
   "cell_type": "code",
   "execution_count": null,
   "metadata": {},
   "outputs": [],
   "source": [
    "df['aux_oportunitys'] = 1\n",
    "ventas_x_vendedor = df.groupby('Account_Owner').agg({'Total_Amount_USD': np.sum, 'aux_oportunitys':np.sum}).reset_index()\n",
    "ventas_x_vendedor.columns = ['Vendedor', 'Total Facturado', 'Cantididad Ventas']\n",
    "ventas_x_vendedor"
   ]
  }
 ],
 "metadata": {
  "kernelspec": {
   "display_name": "Python 3",
   "language": "python",
   "name": "python3"
  },
  "language_info": {
   "codemirror_mode": {
    "name": "ipython",
    "version": 3
   },
   "file_extension": ".py",
   "mimetype": "text/x-python",
   "name": "python",
   "nbconvert_exporter": "python",
   "pygments_lexer": "ipython3",
   "version": "3.8.5"
  }
 },
 "nbformat": 4,
 "nbformat_minor": 4
}
